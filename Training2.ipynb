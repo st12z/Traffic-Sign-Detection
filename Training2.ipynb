{
 "cells": [
  {
   "cell_type": "code",
   "execution_count": 1,
   "id": "04334c78",
   "metadata": {},
   "outputs": [
    {
     "name": "stdout",
     "output_type": "stream",
     "text": [
      " Volume in drive C is Windows\n",
      " Volume Serial Number is E2EC-E904\n",
      "\n",
      " Directory of c:\\Users\\T\\Desktop\\Al_Project\\Traffic-Sign-Detection-Using-CNN\n",
      "\n",
      "03/06/2025  09:37 CH    <DIR>          .\n",
      "26/05/2025  07:35 SA    <DIR>          ..\n",
      "03/05/2025  03:24 CH                12 .gitignore\n",
      "03/06/2025  09:38 CH         3.773.868 best_model.h5\n",
      "03/06/2025  09:22 CH    <DIR>          dataset1\n",
      "03/06/2025  09:25 CH    <DIR>          dataset2\n",
      "03/06/2025  09:37 CH    <DIR>          dataset3\n",
      "03/05/2025  08:32 SA             1.096 LICENSE\n",
      "03/06/2025  09:37 CH             4.490 main.py\n",
      "25/05/2025  09:15 SA         3.773.852 model.h5\n",
      "03/05/2025  09:09 SA        18.785.573 model.keras\n",
      "03/05/2025  03:33 CH               176 README.md\n",
      "03/05/2025  08:58 SA                98 requirements.txt\n",
      "18/05/2025  10:25 CH             4.754 T�m t?t code.py\n",
      "03/06/2025  09:31 CH           146.964 Training1.ipynb\n",
      "03/06/2025  09:28 CH                 0 Training2.ipynb\n",
      "03/05/2025  08:41 SA    <DIR>          venv\n",
      "              11 File(s)     26.490.883 bytes\n",
      "               6 Dir(s)  14.166.765.568 bytes free\n"
     ]
    }
   ],
   "source": [
    "ls"
   ]
  },
  {
   "cell_type": "code",
   "execution_count": 2,
   "id": "0ca231ba",
   "metadata": {},
   "outputs": [
    {
     "name": "stdout",
     "output_type": "stream",
     "text": [
      "✅ Đã chia xong dữ liệu thành train/val/test.\n"
     ]
    }
   ],
   "source": [
    "import os\n",
    "import shutil\n",
    "import random\n",
    "\n",
    "# ================== Cấu hình ================== #\n",
    "DATA_DIR = 'dataset3/traffic_data/data'\n",
    "OUTPUT_DIR = 'dataset3'\n",
    "TRAIN_RATIO = 0.7\n",
    "VAL_RATIO = 0.15\n",
    "TEST_RATIO = 0.15\n",
    "SEED = 42\n",
    "\n",
    "# ================== Tạo thư mục ================== #\n",
    "def create_dir(path):\n",
    "    if not os.path.exists(path):\n",
    "        os.makedirs(path)\n",
    "\n",
    "for folder in ['train', 'val', 'test']:\n",
    "    for class_name in os.listdir(DATA_DIR):\n",
    "        create_dir(os.path.join(OUTPUT_DIR, folder, class_name))\n",
    "\n",
    "# ================== Chia dữ liệu ================== #\n",
    "random.seed(SEED)\n",
    "\n",
    "for class_name in os.listdir(DATA_DIR):\n",
    "    class_path = os.path.join(DATA_DIR, class_name)\n",
    "    if not os.path.isdir(class_path):\n",
    "        continue\n",
    "\n",
    "    images = os.listdir(class_path)\n",
    "    random.shuffle(images)\n",
    "\n",
    "    total = len(images)\n",
    "    train_end = int(total * TRAIN_RATIO)\n",
    "    val_end = train_end + int(total * VAL_RATIO)\n",
    "\n",
    "    train_imgs = images[:train_end]\n",
    "    val_imgs = images[train_end:val_end]\n",
    "    test_imgs = images[val_end:]\n",
    "\n",
    "    # Copy ảnh vào thư mục tương ứng\n",
    "    for img_name in train_imgs:\n",
    "        shutil.copy2(os.path.join(class_path, img_name),\n",
    "                     os.path.join(OUTPUT_DIR, 'train', class_name, img_name))\n",
    "\n",
    "    for img_name in val_imgs:\n",
    "        shutil.copy2(os.path.join(class_path, img_name),\n",
    "                     os.path.join(OUTPUT_DIR, 'val', class_name, img_name))\n",
    "\n",
    "    for img_name in test_imgs:\n",
    "        shutil.copy2(os.path.join(class_path, img_name),\n",
    "                     os.path.join(OUTPUT_DIR, 'test', class_name, img_name))\n",
    "\n",
    "print(\"✅ Đã chia xong dữ liệu thành train/val/test.\")\n"
   ]
  },
  {
   "cell_type": "code",
   "execution_count": null,
   "id": "0c1c26d8",
   "metadata": {},
   "outputs": [
    {
     "name": "stdout",
     "output_type": "stream",
     "text": [
      "Found 4176 images belonging to 58 classes.\n",
      "Found 872 images belonging to 58 classes.\n",
      "Found 950 images belonging to 58 classes.\n"
     ]
    },
    {
     "data": {
      "text/html": [
       "<pre style=\"white-space:pre;overflow-x:auto;line-height:normal;font-family:Menlo,'DejaVu Sans Mono',consolas,'Courier New',monospace\"><span style=\"font-weight: bold\">Model: \"sequential_3\"</span>\n",
       "</pre>\n"
      ],
      "text/plain": [
       "\u001b[1mModel: \"sequential_3\"\u001b[0m\n"
      ]
     },
     "metadata": {},
     "output_type": "display_data"
    },
    {
     "data": {
      "text/html": [
       "<pre style=\"white-space:pre;overflow-x:auto;line-height:normal;font-family:Menlo,'DejaVu Sans Mono',consolas,'Courier New',monospace\">┏━━━━━━━━━━━━━━━━━━━━━━━━━━━━━━━━━┳━━━━━━━━━━━━━━━━━━━━━━━━┳━━━━━━━━━━━━━━━┓\n",
       "┃<span style=\"font-weight: bold\"> Layer (type)                    </span>┃<span style=\"font-weight: bold\"> Output Shape           </span>┃<span style=\"font-weight: bold\">       Param # </span>┃\n",
       "┡━━━━━━━━━━━━━━━━━━━━━━━━━━━━━━━━━╇━━━━━━━━━━━━━━━━━━━━━━━━╇━━━━━━━━━━━━━━━┩\n",
       "│ conv2d_12 (<span style=\"color: #0087ff; text-decoration-color: #0087ff\">Conv2D</span>)              │ (<span style=\"color: #00d7ff; text-decoration-color: #00d7ff\">None</span>, <span style=\"color: #00af00; text-decoration-color: #00af00\">30</span>, <span style=\"color: #00af00; text-decoration-color: #00af00\">30</span>, <span style=\"color: #00af00; text-decoration-color: #00af00\">64</span>)     │         <span style=\"color: #00af00; text-decoration-color: #00af00\">1,792</span> │\n",
       "├─────────────────────────────────┼────────────────────────┼───────────────┤\n",
       "│ batch_normalization_15          │ (<span style=\"color: #00d7ff; text-decoration-color: #00d7ff\">None</span>, <span style=\"color: #00af00; text-decoration-color: #00af00\">30</span>, <span style=\"color: #00af00; text-decoration-color: #00af00\">30</span>, <span style=\"color: #00af00; text-decoration-color: #00af00\">64</span>)     │           <span style=\"color: #00af00; text-decoration-color: #00af00\">256</span> │\n",
       "│ (<span style=\"color: #0087ff; text-decoration-color: #0087ff\">BatchNormalization</span>)            │                        │               │\n",
       "├─────────────────────────────────┼────────────────────────┼───────────────┤\n",
       "│ dropout_15 (<span style=\"color: #0087ff; text-decoration-color: #0087ff\">Dropout</span>)            │ (<span style=\"color: #00d7ff; text-decoration-color: #00d7ff\">None</span>, <span style=\"color: #00af00; text-decoration-color: #00af00\">30</span>, <span style=\"color: #00af00; text-decoration-color: #00af00\">30</span>, <span style=\"color: #00af00; text-decoration-color: #00af00\">64</span>)     │             <span style=\"color: #00af00; text-decoration-color: #00af00\">0</span> │\n",
       "├─────────────────────────────────┼────────────────────────┼───────────────┤\n",
       "│ conv2d_13 (<span style=\"color: #0087ff; text-decoration-color: #0087ff\">Conv2D</span>)              │ (<span style=\"color: #00d7ff; text-decoration-color: #00d7ff\">None</span>, <span style=\"color: #00af00; text-decoration-color: #00af00\">30</span>, <span style=\"color: #00af00; text-decoration-color: #00af00\">30</span>, <span style=\"color: #00af00; text-decoration-color: #00af00\">64</span>)     │        <span style=\"color: #00af00; text-decoration-color: #00af00\">36,928</span> │\n",
       "├─────────────────────────────────┼────────────────────────┼───────────────┤\n",
       "│ batch_normalization_16          │ (<span style=\"color: #00d7ff; text-decoration-color: #00d7ff\">None</span>, <span style=\"color: #00af00; text-decoration-color: #00af00\">30</span>, <span style=\"color: #00af00; text-decoration-color: #00af00\">30</span>, <span style=\"color: #00af00; text-decoration-color: #00af00\">64</span>)     │           <span style=\"color: #00af00; text-decoration-color: #00af00\">256</span> │\n",
       "│ (<span style=\"color: #0087ff; text-decoration-color: #0087ff\">BatchNormalization</span>)            │                        │               │\n",
       "├─────────────────────────────────┼────────────────────────┼───────────────┤\n",
       "│ max_pooling2d_6 (<span style=\"color: #0087ff; text-decoration-color: #0087ff\">MaxPooling2D</span>)  │ (<span style=\"color: #00d7ff; text-decoration-color: #00d7ff\">None</span>, <span style=\"color: #00af00; text-decoration-color: #00af00\">15</span>, <span style=\"color: #00af00; text-decoration-color: #00af00\">15</span>, <span style=\"color: #00af00; text-decoration-color: #00af00\">64</span>)     │             <span style=\"color: #00af00; text-decoration-color: #00af00\">0</span> │\n",
       "├─────────────────────────────────┼────────────────────────┼───────────────┤\n",
       "│ dropout_16 (<span style=\"color: #0087ff; text-decoration-color: #0087ff\">Dropout</span>)            │ (<span style=\"color: #00d7ff; text-decoration-color: #00d7ff\">None</span>, <span style=\"color: #00af00; text-decoration-color: #00af00\">15</span>, <span style=\"color: #00af00; text-decoration-color: #00af00\">15</span>, <span style=\"color: #00af00; text-decoration-color: #00af00\">64</span>)     │             <span style=\"color: #00af00; text-decoration-color: #00af00\">0</span> │\n",
       "├─────────────────────────────────┼────────────────────────┼───────────────┤\n",
       "│ conv2d_14 (<span style=\"color: #0087ff; text-decoration-color: #0087ff\">Conv2D</span>)              │ (<span style=\"color: #00d7ff; text-decoration-color: #00d7ff\">None</span>, <span style=\"color: #00af00; text-decoration-color: #00af00\">15</span>, <span style=\"color: #00af00; text-decoration-color: #00af00\">15</span>, <span style=\"color: #00af00; text-decoration-color: #00af00\">128</span>)    │        <span style=\"color: #00af00; text-decoration-color: #00af00\">73,856</span> │\n",
       "├─────────────────────────────────┼────────────────────────┼───────────────┤\n",
       "│ batch_normalization_17          │ (<span style=\"color: #00d7ff; text-decoration-color: #00d7ff\">None</span>, <span style=\"color: #00af00; text-decoration-color: #00af00\">15</span>, <span style=\"color: #00af00; text-decoration-color: #00af00\">15</span>, <span style=\"color: #00af00; text-decoration-color: #00af00\">128</span>)    │           <span style=\"color: #00af00; text-decoration-color: #00af00\">512</span> │\n",
       "│ (<span style=\"color: #0087ff; text-decoration-color: #0087ff\">BatchNormalization</span>)            │                        │               │\n",
       "├─────────────────────────────────┼────────────────────────┼───────────────┤\n",
       "│ dropout_17 (<span style=\"color: #0087ff; text-decoration-color: #0087ff\">Dropout</span>)            │ (<span style=\"color: #00d7ff; text-decoration-color: #00d7ff\">None</span>, <span style=\"color: #00af00; text-decoration-color: #00af00\">15</span>, <span style=\"color: #00af00; text-decoration-color: #00af00\">15</span>, <span style=\"color: #00af00; text-decoration-color: #00af00\">128</span>)    │             <span style=\"color: #00af00; text-decoration-color: #00af00\">0</span> │\n",
       "├─────────────────────────────────┼────────────────────────┼───────────────┤\n",
       "│ conv2d_15 (<span style=\"color: #0087ff; text-decoration-color: #0087ff\">Conv2D</span>)              │ (<span style=\"color: #00d7ff; text-decoration-color: #00d7ff\">None</span>, <span style=\"color: #00af00; text-decoration-color: #00af00\">15</span>, <span style=\"color: #00af00; text-decoration-color: #00af00\">15</span>, <span style=\"color: #00af00; text-decoration-color: #00af00\">128</span>)    │       <span style=\"color: #00af00; text-decoration-color: #00af00\">147,584</span> │\n",
       "├─────────────────────────────────┼────────────────────────┼───────────────┤\n",
       "│ batch_normalization_18          │ (<span style=\"color: #00d7ff; text-decoration-color: #00d7ff\">None</span>, <span style=\"color: #00af00; text-decoration-color: #00af00\">15</span>, <span style=\"color: #00af00; text-decoration-color: #00af00\">15</span>, <span style=\"color: #00af00; text-decoration-color: #00af00\">128</span>)    │           <span style=\"color: #00af00; text-decoration-color: #00af00\">512</span> │\n",
       "│ (<span style=\"color: #0087ff; text-decoration-color: #0087ff\">BatchNormalization</span>)            │                        │               │\n",
       "├─────────────────────────────────┼────────────────────────┼───────────────┤\n",
       "│ max_pooling2d_7 (<span style=\"color: #0087ff; text-decoration-color: #0087ff\">MaxPooling2D</span>)  │ (<span style=\"color: #00d7ff; text-decoration-color: #00d7ff\">None</span>, <span style=\"color: #00af00; text-decoration-color: #00af00\">7</span>, <span style=\"color: #00af00; text-decoration-color: #00af00\">7</span>, <span style=\"color: #00af00; text-decoration-color: #00af00\">128</span>)      │             <span style=\"color: #00af00; text-decoration-color: #00af00\">0</span> │\n",
       "├─────────────────────────────────┼────────────────────────┼───────────────┤\n",
       "│ dropout_18 (<span style=\"color: #0087ff; text-decoration-color: #0087ff\">Dropout</span>)            │ (<span style=\"color: #00d7ff; text-decoration-color: #00d7ff\">None</span>, <span style=\"color: #00af00; text-decoration-color: #00af00\">7</span>, <span style=\"color: #00af00; text-decoration-color: #00af00\">7</span>, <span style=\"color: #00af00; text-decoration-color: #00af00\">128</span>)      │             <span style=\"color: #00af00; text-decoration-color: #00af00\">0</span> │\n",
       "├─────────────────────────────────┼────────────────────────┼───────────────┤\n",
       "│ global_average_pooling2d_3      │ (<span style=\"color: #00d7ff; text-decoration-color: #00d7ff\">None</span>, <span style=\"color: #00af00; text-decoration-color: #00af00\">128</span>)            │             <span style=\"color: #00af00; text-decoration-color: #00af00\">0</span> │\n",
       "│ (<span style=\"color: #0087ff; text-decoration-color: #0087ff\">GlobalAveragePooling2D</span>)        │                        │               │\n",
       "├─────────────────────────────────┼────────────────────────┼───────────────┤\n",
       "│ dense_6 (<span style=\"color: #0087ff; text-decoration-color: #0087ff\">Dense</span>)                 │ (<span style=\"color: #00d7ff; text-decoration-color: #00d7ff\">None</span>, <span style=\"color: #00af00; text-decoration-color: #00af00\">256</span>)            │        <span style=\"color: #00af00; text-decoration-color: #00af00\">33,024</span> │\n",
       "├─────────────────────────────────┼────────────────────────┼───────────────┤\n",
       "│ batch_normalization_19          │ (<span style=\"color: #00d7ff; text-decoration-color: #00d7ff\">None</span>, <span style=\"color: #00af00; text-decoration-color: #00af00\">256</span>)            │         <span style=\"color: #00af00; text-decoration-color: #00af00\">1,024</span> │\n",
       "│ (<span style=\"color: #0087ff; text-decoration-color: #0087ff\">BatchNormalization</span>)            │                        │               │\n",
       "├─────────────────────────────────┼────────────────────────┼───────────────┤\n",
       "│ dropout_19 (<span style=\"color: #0087ff; text-decoration-color: #0087ff\">Dropout</span>)            │ (<span style=\"color: #00d7ff; text-decoration-color: #00d7ff\">None</span>, <span style=\"color: #00af00; text-decoration-color: #00af00\">256</span>)            │             <span style=\"color: #00af00; text-decoration-color: #00af00\">0</span> │\n",
       "├─────────────────────────────────┼────────────────────────┼───────────────┤\n",
       "│ dense_7 (<span style=\"color: #0087ff; text-decoration-color: #0087ff\">Dense</span>)                 │ (<span style=\"color: #00d7ff; text-decoration-color: #00d7ff\">None</span>, <span style=\"color: #00af00; text-decoration-color: #00af00\">58</span>)             │        <span style=\"color: #00af00; text-decoration-color: #00af00\">14,906</span> │\n",
       "└─────────────────────────────────┴────────────────────────┴───────────────┘\n",
       "</pre>\n"
      ],
      "text/plain": [
       "┏━━━━━━━━━━━━━━━━━━━━━━━━━━━━━━━━━┳━━━━━━━━━━━━━━━━━━━━━━━━┳━━━━━━━━━━━━━━━┓\n",
       "┃\u001b[1m \u001b[0m\u001b[1mLayer (type)                   \u001b[0m\u001b[1m \u001b[0m┃\u001b[1m \u001b[0m\u001b[1mOutput Shape          \u001b[0m\u001b[1m \u001b[0m┃\u001b[1m \u001b[0m\u001b[1m      Param #\u001b[0m\u001b[1m \u001b[0m┃\n",
       "┡━━━━━━━━━━━━━━━━━━━━━━━━━━━━━━━━━╇━━━━━━━━━━━━━━━━━━━━━━━━╇━━━━━━━━━━━━━━━┩\n",
       "│ conv2d_12 (\u001b[38;5;33mConv2D\u001b[0m)              │ (\u001b[38;5;45mNone\u001b[0m, \u001b[38;5;34m30\u001b[0m, \u001b[38;5;34m30\u001b[0m, \u001b[38;5;34m64\u001b[0m)     │         \u001b[38;5;34m1,792\u001b[0m │\n",
       "├─────────────────────────────────┼────────────────────────┼───────────────┤\n",
       "│ batch_normalization_15          │ (\u001b[38;5;45mNone\u001b[0m, \u001b[38;5;34m30\u001b[0m, \u001b[38;5;34m30\u001b[0m, \u001b[38;5;34m64\u001b[0m)     │           \u001b[38;5;34m256\u001b[0m │\n",
       "│ (\u001b[38;5;33mBatchNormalization\u001b[0m)            │                        │               │\n",
       "├─────────────────────────────────┼────────────────────────┼───────────────┤\n",
       "│ dropout_15 (\u001b[38;5;33mDropout\u001b[0m)            │ (\u001b[38;5;45mNone\u001b[0m, \u001b[38;5;34m30\u001b[0m, \u001b[38;5;34m30\u001b[0m, \u001b[38;5;34m64\u001b[0m)     │             \u001b[38;5;34m0\u001b[0m │\n",
       "├─────────────────────────────────┼────────────────────────┼───────────────┤\n",
       "│ conv2d_13 (\u001b[38;5;33mConv2D\u001b[0m)              │ (\u001b[38;5;45mNone\u001b[0m, \u001b[38;5;34m30\u001b[0m, \u001b[38;5;34m30\u001b[0m, \u001b[38;5;34m64\u001b[0m)     │        \u001b[38;5;34m36,928\u001b[0m │\n",
       "├─────────────────────────────────┼────────────────────────┼───────────────┤\n",
       "│ batch_normalization_16          │ (\u001b[38;5;45mNone\u001b[0m, \u001b[38;5;34m30\u001b[0m, \u001b[38;5;34m30\u001b[0m, \u001b[38;5;34m64\u001b[0m)     │           \u001b[38;5;34m256\u001b[0m │\n",
       "│ (\u001b[38;5;33mBatchNormalization\u001b[0m)            │                        │               │\n",
       "├─────────────────────────────────┼────────────────────────┼───────────────┤\n",
       "│ max_pooling2d_6 (\u001b[38;5;33mMaxPooling2D\u001b[0m)  │ (\u001b[38;5;45mNone\u001b[0m, \u001b[38;5;34m15\u001b[0m, \u001b[38;5;34m15\u001b[0m, \u001b[38;5;34m64\u001b[0m)     │             \u001b[38;5;34m0\u001b[0m │\n",
       "├─────────────────────────────────┼────────────────────────┼───────────────┤\n",
       "│ dropout_16 (\u001b[38;5;33mDropout\u001b[0m)            │ (\u001b[38;5;45mNone\u001b[0m, \u001b[38;5;34m15\u001b[0m, \u001b[38;5;34m15\u001b[0m, \u001b[38;5;34m64\u001b[0m)     │             \u001b[38;5;34m0\u001b[0m │\n",
       "├─────────────────────────────────┼────────────────────────┼───────────────┤\n",
       "│ conv2d_14 (\u001b[38;5;33mConv2D\u001b[0m)              │ (\u001b[38;5;45mNone\u001b[0m, \u001b[38;5;34m15\u001b[0m, \u001b[38;5;34m15\u001b[0m, \u001b[38;5;34m128\u001b[0m)    │        \u001b[38;5;34m73,856\u001b[0m │\n",
       "├─────────────────────────────────┼────────────────────────┼───────────────┤\n",
       "│ batch_normalization_17          │ (\u001b[38;5;45mNone\u001b[0m, \u001b[38;5;34m15\u001b[0m, \u001b[38;5;34m15\u001b[0m, \u001b[38;5;34m128\u001b[0m)    │           \u001b[38;5;34m512\u001b[0m │\n",
       "│ (\u001b[38;5;33mBatchNormalization\u001b[0m)            │                        │               │\n",
       "├─────────────────────────────────┼────────────────────────┼───────────────┤\n",
       "│ dropout_17 (\u001b[38;5;33mDropout\u001b[0m)            │ (\u001b[38;5;45mNone\u001b[0m, \u001b[38;5;34m15\u001b[0m, \u001b[38;5;34m15\u001b[0m, \u001b[38;5;34m128\u001b[0m)    │             \u001b[38;5;34m0\u001b[0m │\n",
       "├─────────────────────────────────┼────────────────────────┼───────────────┤\n",
       "│ conv2d_15 (\u001b[38;5;33mConv2D\u001b[0m)              │ (\u001b[38;5;45mNone\u001b[0m, \u001b[38;5;34m15\u001b[0m, \u001b[38;5;34m15\u001b[0m, \u001b[38;5;34m128\u001b[0m)    │       \u001b[38;5;34m147,584\u001b[0m │\n",
       "├─────────────────────────────────┼────────────────────────┼───────────────┤\n",
       "│ batch_normalization_18          │ (\u001b[38;5;45mNone\u001b[0m, \u001b[38;5;34m15\u001b[0m, \u001b[38;5;34m15\u001b[0m, \u001b[38;5;34m128\u001b[0m)    │           \u001b[38;5;34m512\u001b[0m │\n",
       "│ (\u001b[38;5;33mBatchNormalization\u001b[0m)            │                        │               │\n",
       "├─────────────────────────────────┼────────────────────────┼───────────────┤\n",
       "│ max_pooling2d_7 (\u001b[38;5;33mMaxPooling2D\u001b[0m)  │ (\u001b[38;5;45mNone\u001b[0m, \u001b[38;5;34m7\u001b[0m, \u001b[38;5;34m7\u001b[0m, \u001b[38;5;34m128\u001b[0m)      │             \u001b[38;5;34m0\u001b[0m │\n",
       "├─────────────────────────────────┼────────────────────────┼───────────────┤\n",
       "│ dropout_18 (\u001b[38;5;33mDropout\u001b[0m)            │ (\u001b[38;5;45mNone\u001b[0m, \u001b[38;5;34m7\u001b[0m, \u001b[38;5;34m7\u001b[0m, \u001b[38;5;34m128\u001b[0m)      │             \u001b[38;5;34m0\u001b[0m │\n",
       "├─────────────────────────────────┼────────────────────────┼───────────────┤\n",
       "│ global_average_pooling2d_3      │ (\u001b[38;5;45mNone\u001b[0m, \u001b[38;5;34m128\u001b[0m)            │             \u001b[38;5;34m0\u001b[0m │\n",
       "│ (\u001b[38;5;33mGlobalAveragePooling2D\u001b[0m)        │                        │               │\n",
       "├─────────────────────────────────┼────────────────────────┼───────────────┤\n",
       "│ dense_6 (\u001b[38;5;33mDense\u001b[0m)                 │ (\u001b[38;5;45mNone\u001b[0m, \u001b[38;5;34m256\u001b[0m)            │        \u001b[38;5;34m33,024\u001b[0m │\n",
       "├─────────────────────────────────┼────────────────────────┼───────────────┤\n",
       "│ batch_normalization_19          │ (\u001b[38;5;45mNone\u001b[0m, \u001b[38;5;34m256\u001b[0m)            │         \u001b[38;5;34m1,024\u001b[0m │\n",
       "│ (\u001b[38;5;33mBatchNormalization\u001b[0m)            │                        │               │\n",
       "├─────────────────────────────────┼────────────────────────┼───────────────┤\n",
       "│ dropout_19 (\u001b[38;5;33mDropout\u001b[0m)            │ (\u001b[38;5;45mNone\u001b[0m, \u001b[38;5;34m256\u001b[0m)            │             \u001b[38;5;34m0\u001b[0m │\n",
       "├─────────────────────────────────┼────────────────────────┼───────────────┤\n",
       "│ dense_7 (\u001b[38;5;33mDense\u001b[0m)                 │ (\u001b[38;5;45mNone\u001b[0m, \u001b[38;5;34m58\u001b[0m)             │        \u001b[38;5;34m14,906\u001b[0m │\n",
       "└─────────────────────────────────┴────────────────────────┴───────────────┘\n"
      ]
     },
     "metadata": {},
     "output_type": "display_data"
    },
    {
     "data": {
      "text/html": [
       "<pre style=\"white-space:pre;overflow-x:auto;line-height:normal;font-family:Menlo,'DejaVu Sans Mono',consolas,'Courier New',monospace\"><span style=\"font-weight: bold\"> Total params: </span><span style=\"color: #00af00; text-decoration-color: #00af00\">310,650</span> (1.19 MB)\n",
       "</pre>\n"
      ],
      "text/plain": [
       "\u001b[1m Total params: \u001b[0m\u001b[38;5;34m310,650\u001b[0m (1.19 MB)\n"
      ]
     },
     "metadata": {},
     "output_type": "display_data"
    },
    {
     "data": {
      "text/html": [
       "<pre style=\"white-space:pre;overflow-x:auto;line-height:normal;font-family:Menlo,'DejaVu Sans Mono',consolas,'Courier New',monospace\"><span style=\"font-weight: bold\"> Trainable params: </span><span style=\"color: #00af00; text-decoration-color: #00af00\">309,370</span> (1.18 MB)\n",
       "</pre>\n"
      ],
      "text/plain": [
       "\u001b[1m Trainable params: \u001b[0m\u001b[38;5;34m309,370\u001b[0m (1.18 MB)\n"
      ]
     },
     "metadata": {},
     "output_type": "display_data"
    },
    {
     "data": {
      "text/html": [
       "<pre style=\"white-space:pre;overflow-x:auto;line-height:normal;font-family:Menlo,'DejaVu Sans Mono',consolas,'Courier New',monospace\"><span style=\"font-weight: bold\"> Non-trainable params: </span><span style=\"color: #00af00; text-decoration-color: #00af00\">1,280</span> (5.00 KB)\n",
       "</pre>\n"
      ],
      "text/plain": [
       "\u001b[1m Non-trainable params: \u001b[0m\u001b[38;5;34m1,280\u001b[0m (5.00 KB)\n"
      ]
     },
     "metadata": {},
     "output_type": "display_data"
    },
    {
     "name": "stdout",
     "output_type": "stream",
     "text": [
      "Epoch 1/100\n",
      "\u001b[1m130/130\u001b[0m \u001b[32m━━━━━━━━━━━━━━━━━━━━\u001b[0m\u001b[37m\u001b[0m \u001b[1m0s\u001b[0m 197ms/step - accuracy: 0.1620 - loss: 3.9969 - mae: 0.0307 - mape: 15371556.0000 - mse: 0.0166 - rmse: 0.1288\n",
      "Epoch 1: val_loss improved from inf to 4.51345, saving model to best_model.h5\n"
     ]
    },
    {
     "name": "stderr",
     "output_type": "stream",
     "text": [
      "WARNING:absl:You are saving your model as an HDF5 file via `model.save()` or `keras.saving.save_model(model)`. This file format is considered legacy. We recommend using instead the native Keras format, e.g. `model.save('my_model.keras')` or `keras.saving.save_model(model, 'my_model.keras')`. \n"
     ]
    },
    {
     "name": "stdout",
     "output_type": "stream",
     "text": [
      "\u001b[1m130/130\u001b[0m \u001b[32m━━━━━━━━━━━━━━━━━━━━\u001b[0m\u001b[37m\u001b[0m \u001b[1m43s\u001b[0m 230ms/step - accuracy: 0.1625 - loss: 3.9925 - mae: 0.0307 - mape: 15364651.0000 - mse: 0.0166 - rmse: 0.1288 - val_accuracy: 0.0394 - val_loss: 4.5135 - val_mae: 0.0335 - val_mape: 16759688.0000 - val_mse: 0.0172 - val_rmse: 0.1313 - learning_rate: 0.0010\n",
      "Epoch 2/100\n",
      "\u001b[1m  1/130\u001b[0m \u001b[37m━━━━━━━━━━━━━━━━━━━━\u001b[0m \u001b[1m13s\u001b[0m 109ms/step - accuracy: 0.3438 - loss: 2.8285 - mae: 0.0277 - mape: 13830375.0000 - mse: 0.0143 - rmse: 0.1196\n",
      "Epoch 2: val_loss did not improve from 4.51345\n",
      "\u001b[1m130/130\u001b[0m \u001b[32m━━━━━━━━━━━━━━━━━━━━\u001b[0m\u001b[37m\u001b[0m \u001b[1m3s\u001b[0m 20ms/step - accuracy: 0.3438 - loss: 2.8285 - mae: 0.0277 - mape: 13830375.0000 - mse: 0.0143 - rmse: 0.1196 - val_accuracy: 0.0405 - val_loss: 4.5332 - val_mae: 0.0335 - val_mape: 16758844.0000 - val_mse: 0.0173 - val_rmse: 0.1314 - learning_rate: 0.0010\n",
      "Epoch 3/100\n",
      "\u001b[1m130/130\u001b[0m \u001b[32m━━━━━━━━━━━━━━━━━━━━\u001b[0m\u001b[37m\u001b[0m \u001b[1m0s\u001b[0m 190ms/step - accuracy: 0.3201 - loss: 2.5877 - mae: 0.0261 - mape: 13040475.0000 - mse: 0.0141 - rmse: 0.1185\n",
      "Epoch 3: val_loss did not improve from 4.51345\n",
      "\u001b[1m130/130\u001b[0m \u001b[32m━━━━━━━━━━━━━━━━━━━━\u001b[0m\u001b[37m\u001b[0m \u001b[1m27s\u001b[0m 208ms/step - accuracy: 0.3201 - loss: 2.5873 - mae: 0.0261 - mape: 13039673.0000 - mse: 0.0141 - rmse: 0.1185 - val_accuracy: 0.0405 - val_loss: 6.6207 - val_mae: 0.0335 - val_mape: 16750292.0000 - val_mse: 0.0202 - val_rmse: 0.1419 - learning_rate: 0.0010\n",
      "Epoch 4/100\n",
      "\u001b[1m  1/130\u001b[0m \u001b[37m━━━━━━━━━━━━━━━━━━━━\u001b[0m \u001b[1m17s\u001b[0m 135ms/step - accuracy: 0.4062 - loss: 2.0377 - mae: 0.0229 - mape: 11427128.0000 - mse: 0.0119 - rmse: 0.1093\n",
      "Epoch 4: ReduceLROnPlateau reducing learning rate to 0.0005000000237487257.\n",
      "\n",
      "Epoch 4: val_loss did not improve from 4.51345\n",
      "\u001b[1m130/130\u001b[0m \u001b[32m━━━━━━━━━━━━━━━━━━━━\u001b[0m\u001b[37m\u001b[0m \u001b[1m2s\u001b[0m 17ms/step - accuracy: 0.4062 - loss: 2.0377 - mae: 0.0229 - mape: 11427128.0000 - mse: 0.0119 - rmse: 0.1093 - val_accuracy: 0.0428 - val_loss: 6.5950 - val_mae: 0.0335 - val_mape: 16740495.0000 - val_mse: 0.0202 - val_rmse: 0.1419 - learning_rate: 0.0010\n",
      "Epoch 5/100\n",
      "\u001b[1m130/130\u001b[0m \u001b[32m━━━━━━━━━━━━━━━━━━━━\u001b[0m\u001b[37m\u001b[0m \u001b[1m0s\u001b[0m 197ms/step - accuracy: 0.3796 - loss: 2.1645 - mae: 0.0242 - mape: 12115889.0000 - mse: 0.0128 - rmse: 0.1129\n",
      "Epoch 5: val_loss did not improve from 4.51345\n",
      "\u001b[1m130/130\u001b[0m \u001b[32m━━━━━━━━━━━━━━━━━━━━\u001b[0m\u001b[37m\u001b[0m \u001b[1m27s\u001b[0m 211ms/step - accuracy: 0.3798 - loss: 2.1641 - mae: 0.0242 - mape: 12114378.0000 - mse: 0.0128 - rmse: 0.1129 - val_accuracy: 0.0671 - val_loss: 5.5977 - val_mae: 0.0329 - val_mape: 16426906.0000 - val_mse: 0.0192 - val_rmse: 0.1383 - learning_rate: 5.0000e-04\n",
      "Epoch 6/100\n",
      "\u001b[1m  1/130\u001b[0m \u001b[37m━━━━━━━━━━━━━━━━━━━━\u001b[0m \u001b[1m13s\u001b[0m 107ms/step - accuracy: 0.3125 - loss: 2.5360 - mae: 0.0271 - mape: 13531018.0000 - mse: 0.0155 - rmse: 0.1245\n",
      "Epoch 6: val_loss did not improve from 4.51345\n",
      "\u001b[1m130/130\u001b[0m \u001b[32m━━━━━━━━━━━━━━━━━━━━\u001b[0m\u001b[37m\u001b[0m \u001b[1m2s\u001b[0m 14ms/step - accuracy: 0.3125 - loss: 2.5360 - mae: 0.0271 - mape: 13531018.0000 - mse: 0.0155 - rmse: 0.1245 - val_accuracy: 0.0694 - val_loss: 5.5632 - val_mae: 0.0328 - val_mape: 16417138.0000 - val_mse: 0.0192 - val_rmse: 0.1383 - learning_rate: 5.0000e-04\n",
      "Epoch 7/100\n",
      "\u001b[1m130/130\u001b[0m \u001b[32m━━━━━━━━━━━━━━━━━━━━\u001b[0m\u001b[37m\u001b[0m \u001b[1m0s\u001b[0m 191ms/step - accuracy: 0.4420 - loss: 1.8674 - mae: 0.0225 - mape: 11256766.0000 - mse: 0.0116 - rmse: 0.1074\n",
      "Epoch 7: val_loss improved from 4.51345 to 3.81255, saving model to best_model.h5\n"
     ]
    },
    {
     "name": "stderr",
     "output_type": "stream",
     "text": [
      "WARNING:absl:You are saving your model as an HDF5 file via `model.save()` or `keras.saving.save_model(model)`. This file format is considered legacy. We recommend using instead the native Keras format, e.g. `model.save('my_model.keras')` or `keras.saving.save_model(model, 'my_model.keras')`. \n"
     ]
    },
    {
     "name": "stdout",
     "output_type": "stream",
     "text": [
      "\u001b[1m130/130\u001b[0m \u001b[32m━━━━━━━━━━━━━━━━━━━━\u001b[0m\u001b[37m\u001b[0m \u001b[1m28s\u001b[0m 213ms/step - accuracy: 0.4422 - loss: 1.8669 - mae: 0.0225 - mape: 11254244.0000 - mse: 0.0116 - rmse: 0.1074 - val_accuracy: 0.1771 - val_loss: 3.8125 - val_mae: 0.0290 - val_mape: 14493709.0000 - val_mse: 0.0187 - val_rmse: 0.1358 - learning_rate: 5.0000e-04\n",
      "Epoch 8/100\n",
      "\u001b[1m  1/130\u001b[0m \u001b[37m━━━━━━━━━━━━━━━━━━━━\u001b[0m \u001b[1m15s\u001b[0m 119ms/step - accuracy: 0.4688 - loss: 1.5508 - mae: 0.0208 - mape: 10400289.0000 - mse: 0.0103 - rmse: 0.1017\n",
      "Epoch 8: val_loss did not improve from 3.81255\n",
      "\u001b[1m130/130\u001b[0m \u001b[32m━━━━━━━━━━━━━━━━━━━━\u001b[0m\u001b[37m\u001b[0m \u001b[1m3s\u001b[0m 19ms/step - accuracy: 0.4688 - loss: 1.5508 - mae: 0.0208 - mape: 10400289.0000 - mse: 0.0103 - rmse: 0.1017 - val_accuracy: 0.1667 - val_loss: 3.8834 - val_mae: 0.0291 - val_mape: 14567506.0000 - val_mse: 0.0190 - val_rmse: 0.1368 - learning_rate: 5.0000e-04\n",
      "Epoch 9/100\n",
      "\u001b[1m130/130\u001b[0m \u001b[32m━━━━━━━━━━━━━━━━━━━━\u001b[0m\u001b[37m\u001b[0m \u001b[1m0s\u001b[0m 203ms/step - accuracy: 0.4973 - loss: 1.6586 - mae: 0.0208 - mape: 10414048.0000 - mse: 0.0106 - rmse: 0.1027\n",
      "Epoch 9: val_loss improved from 3.81255 to 1.58270, saving model to best_model.h5\n"
     ]
    },
    {
     "name": "stderr",
     "output_type": "stream",
     "text": [
      "WARNING:absl:You are saving your model as an HDF5 file via `model.save()` or `keras.saving.save_model(model)`. This file format is considered legacy. We recommend using instead the native Keras format, e.g. `model.save('my_model.keras')` or `keras.saving.save_model(model, 'my_model.keras')`. \n"
     ]
    },
    {
     "name": "stdout",
     "output_type": "stream",
     "text": [
      "\u001b[1m130/130\u001b[0m \u001b[32m━━━━━━━━━━━━━━━━━━━━\u001b[0m\u001b[37m\u001b[0m \u001b[1m29s\u001b[0m 225ms/step - accuracy: 0.4975 - loss: 1.6581 - mae: 0.0208 - mape: 10411896.0000 - mse: 0.0106 - rmse: 0.1026 - val_accuracy: 0.5185 - val_loss: 1.5827 - val_mae: 0.0208 - val_mape: 10416382.0000 - val_mse: 0.0104 - val_rmse: 0.0980 - learning_rate: 5.0000e-04\n",
      "Epoch 10/100\n",
      "\u001b[1m  1/130\u001b[0m \u001b[37m━━━━━━━━━━━━━━━━━━━━\u001b[0m \u001b[1m17s\u001b[0m 137ms/step - accuracy: 0.7188 - loss: 1.0016 - mae: 0.0164 - mape: 8183119.0000 - mse: 0.0070 - rmse: 0.0834\n",
      "Epoch 10: val_loss improved from 1.58270 to 1.56883, saving model to best_model.h5\n"
     ]
    },
    {
     "name": "stderr",
     "output_type": "stream",
     "text": [
      "WARNING:absl:You are saving your model as an HDF5 file via `model.save()` or `keras.saving.save_model(model)`. This file format is considered legacy. We recommend using instead the native Keras format, e.g. `model.save('my_model.keras')` or `keras.saving.save_model(model, 'my_model.keras')`. \n"
     ]
    },
    {
     "name": "stdout",
     "output_type": "stream",
     "text": [
      "\u001b[1m130/130\u001b[0m \u001b[32m━━━━━━━━━━━━━━━━━━━━\u001b[0m\u001b[37m\u001b[0m \u001b[1m3s\u001b[0m 24ms/step - accuracy: 0.7188 - loss: 1.0016 - mae: 0.0164 - mape: 8183119.0000 - mse: 0.0070 - rmse: 0.0834 - val_accuracy: 0.5150 - val_loss: 1.5688 - val_mae: 0.0207 - val_mape: 10354967.0000 - val_mse: 0.0103 - val_rmse: 0.0977 - learning_rate: 5.0000e-04\n",
      "Epoch 11/100\n",
      "\u001b[1m130/130\u001b[0m \u001b[32m━━━━━━━━━━━━━━━━━━━━\u001b[0m\u001b[37m\u001b[0m \u001b[1m0s\u001b[0m 256ms/step - accuracy: 0.5972 - loss: 1.3559 - mae: 0.0185 - mape: 9257298.0000 - mse: 0.0091 - rmse: 0.0952\n",
      "Epoch 11: val_loss improved from 1.56883 to 1.43211, saving model to best_model.h5\n"
     ]
    },
    {
     "name": "stderr",
     "output_type": "stream",
     "text": [
      "WARNING:absl:You are saving your model as an HDF5 file via `model.save()` or `keras.saving.save_model(model)`. This file format is considered legacy. We recommend using instead the native Keras format, e.g. `model.save('my_model.keras')` or `keras.saving.save_model(model, 'my_model.keras')`. \n"
     ]
    },
    {
     "name": "stdout",
     "output_type": "stream",
     "text": [
      "\u001b[1m130/130\u001b[0m \u001b[32m━━━━━━━━━━━━━━━━━━━━\u001b[0m\u001b[37m\u001b[0m \u001b[1m37s\u001b[0m 282ms/step - accuracy: 0.5972 - loss: 1.3561 - mae: 0.0185 - mape: 9257710.0000 - mse: 0.0091 - rmse: 0.0952 - val_accuracy: 0.5683 - val_loss: 1.4321 - val_mae: 0.0183 - val_mape: 9159170.0000 - val_mse: 0.0096 - val_rmse: 0.0900 - learning_rate: 5.0000e-04\n",
      "Epoch 12/100\n",
      "\u001b[1m  1/130\u001b[0m \u001b[37m━━━━━━━━━━━━━━━━━━━━\u001b[0m \u001b[1m17s\u001b[0m 137ms/step - accuracy: 0.5938 - loss: 1.3312 - mae: 0.0179 - mape: 8942339.0000 - mse: 0.0086 - rmse: 0.0926\n",
      "Epoch 12: val_loss did not improve from 1.43211\n",
      "\u001b[1m130/130\u001b[0m \u001b[32m━━━━━━━━━━━━━━━━━━━━\u001b[0m\u001b[37m\u001b[0m \u001b[1m3s\u001b[0m 25ms/step - accuracy: 0.5938 - loss: 1.3312 - mae: 0.0179 - mape: 8942339.0000 - mse: 0.0086 - rmse: 0.0926 - val_accuracy: 0.5556 - val_loss: 1.4859 - val_mae: 0.0184 - val_mape: 9217968.0000 - val_mse: 0.0098 - val_rmse: 0.0907 - learning_rate: 5.0000e-04\n",
      "Epoch 13/100\n",
      "\u001b[1m130/130\u001b[0m \u001b[32m━━━━━━━━━━━━━━━━━━━━\u001b[0m\u001b[37m\u001b[0m \u001b[1m0s\u001b[0m 258ms/step - accuracy: 0.6208 - loss: 1.2550 - mae: 0.0174 - mape: 8709444.0000 - mse: 0.0086 - rmse: 0.0924\n",
      "Epoch 13: val_loss improved from 1.43211 to 1.15412, saving model to best_model.h5\n"
     ]
    },
    {
     "name": "stderr",
     "output_type": "stream",
     "text": [
      "WARNING:absl:You are saving your model as an HDF5 file via `model.save()` or `keras.saving.save_model(model)`. This file format is considered legacy. We recommend using instead the native Keras format, e.g. `model.save('my_model.keras')` or `keras.saving.save_model(model, 'my_model.keras')`. \n"
     ]
    },
    {
     "name": "stdout",
     "output_type": "stream",
     "text": [
      "\u001b[1m130/130\u001b[0m \u001b[32m━━━━━━━━━━━━━━━━━━━━\u001b[0m\u001b[37m\u001b[0m \u001b[1m36s\u001b[0m 278ms/step - accuracy: 0.6209 - loss: 1.2547 - mae: 0.0174 - mape: 8707875.0000 - mse: 0.0086 - rmse: 0.0924 - val_accuracy: 0.6528 - val_loss: 1.1541 - val_mae: 0.0162 - val_mape: 8114265.5000 - val_mse: 0.0078 - val_rmse: 0.0826 - learning_rate: 5.0000e-04\n",
      "Epoch 14/100\n",
      "\u001b[1m  1/130\u001b[0m \u001b[37m━━━━━━━━━━━━━━━━━━━━\u001b[0m \u001b[1m13s\u001b[0m 101ms/step - accuracy: 0.6562 - loss: 0.9889 - mae: 0.0165 - mape: 8230710.5000 - mse: 0.0074 - rmse: 0.0861\n",
      "Epoch 14: val_loss improved from 1.15412 to 1.15095, saving model to best_model.h5\n"
     ]
    },
    {
     "name": "stderr",
     "output_type": "stream",
     "text": [
      "WARNING:absl:You are saving your model as an HDF5 file via `model.save()` or `keras.saving.save_model(model)`. This file format is considered legacy. We recommend using instead the native Keras format, e.g. `model.save('my_model.keras')` or `keras.saving.save_model(model, 'my_model.keras')`. \n"
     ]
    },
    {
     "name": "stdout",
     "output_type": "stream",
     "text": [
      "\u001b[1m130/130\u001b[0m \u001b[32m━━━━━━━━━━━━━━━━━━━━\u001b[0m\u001b[37m\u001b[0m \u001b[1m4s\u001b[0m 31ms/step - accuracy: 0.6562 - loss: 0.9889 - mae: 0.0165 - mape: 8230710.5000 - mse: 0.0074 - rmse: 0.0861 - val_accuracy: 0.6586 - val_loss: 1.1509 - val_mae: 0.0162 - val_mape: 8115732.5000 - val_mse: 0.0078 - val_rmse: 0.0820 - learning_rate: 5.0000e-04\n",
      "Epoch 15/100\n",
      "\u001b[1m130/130\u001b[0m \u001b[32m━━━━━━━━━━━━━━━━━━━━\u001b[0m\u001b[37m\u001b[0m \u001b[1m0s\u001b[0m 274ms/step - accuracy: 0.6813 - loss: 1.0629 - mae: 0.0156 - mape: 7775202.0000 - mse: 0.0074 - rmse: 0.0857\n",
      "Epoch 15: val_loss improved from 1.15095 to 0.99365, saving model to best_model.h5\n"
     ]
    },
    {
     "name": "stderr",
     "output_type": "stream",
     "text": [
      "WARNING:absl:You are saving your model as an HDF5 file via `model.save()` or `keras.saving.save_model(model)`. This file format is considered legacy. We recommend using instead the native Keras format, e.g. `model.save('my_model.keras')` or `keras.saving.save_model(model, 'my_model.keras')`. \n"
     ]
    },
    {
     "name": "stdout",
     "output_type": "stream",
     "text": [
      "\u001b[1m130/130\u001b[0m \u001b[32m━━━━━━━━━━━━━━━━━━━━\u001b[0m\u001b[37m\u001b[0m \u001b[1m40s\u001b[0m 305ms/step - accuracy: 0.6813 - loss: 1.0629 - mae: 0.0155 - mape: 7774569.5000 - mse: 0.0074 - rmse: 0.0856 - val_accuracy: 0.6690 - val_loss: 0.9936 - val_mae: 0.0138 - val_mape: 6908679.0000 - val_mse: 0.0073 - val_rmse: 0.0776 - learning_rate: 5.0000e-04\n",
      "Epoch 16/100\n",
      "\u001b[1m  1/130\u001b[0m \u001b[37m━━━━━━━━━━━━━━━━━━━━\u001b[0m \u001b[1m20s\u001b[0m 161ms/step - accuracy: 0.6250 - loss: 1.0299 - mae: 0.0169 - mape: 8458119.0000 - mse: 0.0078 - rmse: 0.0884\n",
      "Epoch 16: val_loss improved from 0.99365 to 0.95255, saving model to best_model.h5\n"
     ]
    },
    {
     "name": "stderr",
     "output_type": "stream",
     "text": [
      "WARNING:absl:You are saving your model as an HDF5 file via `model.save()` or `keras.saving.save_model(model)`. This file format is considered legacy. We recommend using instead the native Keras format, e.g. `model.save('my_model.keras')` or `keras.saving.save_model(model, 'my_model.keras')`. \n"
     ]
    },
    {
     "name": "stdout",
     "output_type": "stream",
     "text": [
      "\u001b[1m130/130\u001b[0m \u001b[32m━━━━━━━━━━━━━━━━━━━━\u001b[0m\u001b[37m\u001b[0m \u001b[1m4s\u001b[0m 31ms/step - accuracy: 0.6250 - loss: 1.0299 - mae: 0.0169 - mape: 8458119.0000 - mse: 0.0078 - rmse: 0.0884 - val_accuracy: 0.6875 - val_loss: 0.9525 - val_mae: 0.0136 - val_mape: 6782126.0000 - val_mse: 0.0070 - val_rmse: 0.0761 - learning_rate: 5.0000e-04\n",
      "Epoch 17/100\n",
      "\u001b[1m130/130\u001b[0m \u001b[32m━━━━━━━━━━━━━━━━━━━━\u001b[0m\u001b[37m\u001b[0m \u001b[1m0s\u001b[0m 236ms/step - accuracy: 0.7059 - loss: 0.9482 - mae: 0.0141 - mape: 7065881.5000 - mse: 0.0067 - rmse: 0.0811\n",
      "Epoch 17: val_loss improved from 0.95255 to 0.91501, saving model to best_model.h5\n"
     ]
    },
    {
     "name": "stderr",
     "output_type": "stream",
     "text": [
      "WARNING:absl:You are saving your model as an HDF5 file via `model.save()` or `keras.saving.save_model(model)`. This file format is considered legacy. We recommend using instead the native Keras format, e.g. `model.save('my_model.keras')` or `keras.saving.save_model(model, 'my_model.keras')`. \n"
     ]
    },
    {
     "name": "stdout",
     "output_type": "stream",
     "text": [
      "\u001b[1m130/130\u001b[0m \u001b[32m━━━━━━━━━━━━━━━━━━━━\u001b[0m\u001b[37m\u001b[0m \u001b[1m34s\u001b[0m 259ms/step - accuracy: 0.7059 - loss: 0.9481 - mae: 0.0141 - mape: 7065085.5000 - mse: 0.0067 - rmse: 0.0811 - val_accuracy: 0.7199 - val_loss: 0.9150 - val_mae: 0.0136 - val_mape: 6777996.5000 - val_mse: 0.0065 - val_rmse: 0.0749 - learning_rate: 5.0000e-04\n",
      "Epoch 18/100\n",
      "\u001b[1m  1/130\u001b[0m \u001b[37m━━━━━━━━━━━━━━━━━━━━\u001b[0m \u001b[1m19s\u001b[0m 152ms/step - accuracy: 0.7188 - loss: 0.9956 - mae: 0.0134 - mape: 6708952.0000 - mse: 0.0065 - rmse: 0.0806\n",
      "Epoch 18: val_loss did not improve from 0.91501\n",
      "\u001b[1m130/130\u001b[0m \u001b[32m━━━━━━━━━━━━━━━━━━━━\u001b[0m\u001b[37m\u001b[0m \u001b[1m3s\u001b[0m 22ms/step - accuracy: 0.7188 - loss: 0.9956 - mae: 0.0134 - mape: 6708952.0000 - mse: 0.0065 - rmse: 0.0806 - val_accuracy: 0.7130 - val_loss: 0.9230 - val_mae: 0.0136 - val_mape: 6808082.5000 - val_mse: 0.0065 - val_rmse: 0.0752 - learning_rate: 5.0000e-04\n",
      "Epoch 19/100\n",
      "\u001b[1m130/130\u001b[0m \u001b[32m━━━━━━━━━━━━━━━━━━━━\u001b[0m\u001b[37m\u001b[0m \u001b[1m0s\u001b[0m 201ms/step - accuracy: 0.7477 - loss: 0.8354 - mae: 0.0129 - mape: 6428717.5000 - mse: 0.0059 - rmse: 0.0766\n",
      "Epoch 19: val_loss improved from 0.91501 to 0.66984, saving model to best_model.h5\n"
     ]
    },
    {
     "name": "stderr",
     "output_type": "stream",
     "text": [
      "WARNING:absl:You are saving your model as an HDF5 file via `model.save()` or `keras.saving.save_model(model)`. This file format is considered legacy. We recommend using instead the native Keras format, e.g. `model.save('my_model.keras')` or `keras.saving.save_model(model, 'my_model.keras')`. \n"
     ]
    },
    {
     "name": "stdout",
     "output_type": "stream",
     "text": [
      "\u001b[1m130/130\u001b[0m \u001b[32m━━━━━━━━━━━━━━━━━━━━\u001b[0m\u001b[37m\u001b[0m \u001b[1m29s\u001b[0m 222ms/step - accuracy: 0.7477 - loss: 0.8353 - mae: 0.0129 - mape: 6428231.5000 - mse: 0.0059 - rmse: 0.0766 - val_accuracy: 0.7801 - val_loss: 0.6698 - val_mae: 0.0095 - val_mape: 4766024.5000 - val_mse: 0.0050 - val_rmse: 0.0625 - learning_rate: 5.0000e-04\n",
      "Epoch 20/100\n",
      "\u001b[1m  1/130\u001b[0m \u001b[37m━━━━━━━━━━━━━━━━━━━━\u001b[0m \u001b[1m13s\u001b[0m 103ms/step - accuracy: 0.7500 - loss: 0.8686 - mae: 0.0121 - mape: 6070296.0000 - mse: 0.0062 - rmse: 0.0785\n",
      "Epoch 20: val_loss did not improve from 0.66984\n",
      "\u001b[1m130/130\u001b[0m \u001b[32m━━━━━━━━━━━━━━━━━━━━\u001b[0m\u001b[37m\u001b[0m \u001b[1m3s\u001b[0m 22ms/step - accuracy: 0.7500 - loss: 0.8686 - mae: 0.0121 - mape: 6070296.0000 - mse: 0.0062 - rmse: 0.0785 - val_accuracy: 0.7801 - val_loss: 0.6759 - val_mae: 0.0097 - val_mape: 4829779.5000 - val_mse: 0.0050 - val_rmse: 0.0630 - learning_rate: 5.0000e-04\n",
      "Epoch 21/100\n",
      "\u001b[1m130/130\u001b[0m \u001b[32m━━━━━━━━━━━━━━━━━━━━\u001b[0m\u001b[37m\u001b[0m \u001b[1m0s\u001b[0m 172ms/step - accuracy: 0.7734 - loss: 0.7396 - mae: 0.0114 - mape: 5703223.0000 - mse: 0.0053 - rmse: 0.0721\n",
      "Epoch 21: val_loss did not improve from 0.66984\n",
      "\u001b[1m130/130\u001b[0m \u001b[32m━━━━━━━━━━━━━━━━━━━━\u001b[0m\u001b[37m\u001b[0m \u001b[1m25s\u001b[0m 193ms/step - accuracy: 0.7734 - loss: 0.7395 - mae: 0.0114 - mape: 5703049.0000 - mse: 0.0053 - rmse: 0.0721 - val_accuracy: 0.7870 - val_loss: 0.7022 - val_mae: 0.0095 - val_mape: 4736330.5000 - val_mse: 0.0050 - val_rmse: 0.0624 - learning_rate: 5.0000e-04\n",
      "Epoch 22/100\n",
      "\u001b[1m  1/130\u001b[0m \u001b[37m━━━━━━━━━━━━━━━━━━━━\u001b[0m \u001b[1m13s\u001b[0m 106ms/step - accuracy: 0.7500 - loss: 0.8129 - mae: 0.0123 - mape: 6161899.0000 - mse: 0.0063 - rmse: 0.0792\n",
      "Epoch 22: ReduceLROnPlateau reducing learning rate to 0.0002500000118743628.\n",
      "\n",
      "Epoch 22: val_loss did not improve from 0.66984\n",
      "\u001b[1m130/130\u001b[0m \u001b[32m━━━━━━━━━━━━━━━━━━━━\u001b[0m\u001b[37m\u001b[0m \u001b[1m3s\u001b[0m 20ms/step - accuracy: 0.7500 - loss: 0.8129 - mae: 0.0123 - mape: 6161899.0000 - mse: 0.0063 - rmse: 0.0792 - val_accuracy: 0.7859 - val_loss: 0.7208 - val_mae: 0.0096 - val_mape: 4776929.0000 - val_mse: 0.0051 - val_rmse: 0.0632 - learning_rate: 5.0000e-04\n",
      "Epoch 23/100\n",
      "\u001b[1m130/130\u001b[0m \u001b[32m━━━━━━━━━━━━━━━━━━━━\u001b[0m\u001b[37m\u001b[0m \u001b[1m0s\u001b[0m 226ms/step - accuracy: 0.8251 - loss: 0.5827 - mae: 0.0097 - mape: 4833531.0000 - mse: 0.0043 - rmse: 0.0646\n",
      "Epoch 23: val_loss improved from 0.66984 to 0.42207, saving model to best_model.h5\n"
     ]
    },
    {
     "name": "stderr",
     "output_type": "stream",
     "text": [
      "WARNING:absl:You are saving your model as an HDF5 file via `model.save()` or `keras.saving.save_model(model)`. This file format is considered legacy. We recommend using instead the native Keras format, e.g. `model.save('my_model.keras')` or `keras.saving.save_model(model, 'my_model.keras')`. \n"
     ]
    },
    {
     "name": "stdout",
     "output_type": "stream",
     "text": [
      "\u001b[1m130/130\u001b[0m \u001b[32m━━━━━━━━━━━━━━━━━━━━\u001b[0m\u001b[37m\u001b[0m \u001b[1m32s\u001b[0m 248ms/step - accuracy: 0.8251 - loss: 0.5826 - mae: 0.0097 - mape: 4832958.0000 - mse: 0.0043 - rmse: 0.0646 - val_accuracy: 0.8819 - val_loss: 0.4221 - val_mae: 0.0069 - val_mape: 3448978.7500 - val_mse: 0.0029 - val_rmse: 0.0454 - learning_rate: 2.5000e-04\n",
      "Epoch 24/100\n",
      "\u001b[1m  1/130\u001b[0m \u001b[37m━━━━━━━━━━━━━━━━━━━━\u001b[0m \u001b[1m17s\u001b[0m 137ms/step - accuracy: 0.8750 - loss: 0.4728 - mae: 0.0089 - mape: 4465726.0000 - mse: 0.0036 - rmse: 0.0597\n",
      "Epoch 24: val_loss did not improve from 0.42207\n",
      "\u001b[1m130/130\u001b[0m \u001b[32m━━━━━━━━━━━━━━━━━━━━\u001b[0m\u001b[37m\u001b[0m \u001b[1m3s\u001b[0m 24ms/step - accuracy: 0.8750 - loss: 0.4728 - mae: 0.0089 - mape: 4465726.0000 - mse: 0.0036 - rmse: 0.0597 - val_accuracy: 0.8773 - val_loss: 0.4269 - val_mae: 0.0069 - val_mape: 3471848.2500 - val_mse: 0.0030 - val_rmse: 0.0458 - learning_rate: 2.5000e-04\n",
      "Epoch 25/100\n",
      "\u001b[1m130/130\u001b[0m \u001b[32m━━━━━━━━━━━━━━━━━━━━\u001b[0m\u001b[37m\u001b[0m \u001b[1m0s\u001b[0m 199ms/step - accuracy: 0.8398 - loss: 0.5379 - mae: 0.0090 - mape: 4519327.0000 - mse: 0.0040 - rmse: 0.0622\n",
      "Epoch 25: val_loss improved from 0.42207 to 0.35278, saving model to best_model.h5\n"
     ]
    },
    {
     "name": "stderr",
     "output_type": "stream",
     "text": [
      "WARNING:absl:You are saving your model as an HDF5 file via `model.save()` or `keras.saving.save_model(model)`. This file format is considered legacy. We recommend using instead the native Keras format, e.g. `model.save('my_model.keras')` or `keras.saving.save_model(model, 'my_model.keras')`. \n"
     ]
    },
    {
     "name": "stdout",
     "output_type": "stream",
     "text": [
      "\u001b[1m130/130\u001b[0m \u001b[32m━━━━━━━━━━━━━━━━━━━━\u001b[0m\u001b[37m\u001b[0m \u001b[1m29s\u001b[0m 222ms/step - accuracy: 0.8398 - loss: 0.5378 - mae: 0.0090 - mape: 4518784.0000 - mse: 0.0040 - rmse: 0.0622 - val_accuracy: 0.8924 - val_loss: 0.3528 - val_mae: 0.0058 - val_mape: 2899246.2500 - val_mse: 0.0026 - val_rmse: 0.0414 - learning_rate: 2.5000e-04\n",
      "Epoch 26/100\n",
      "\u001b[1m  1/130\u001b[0m \u001b[37m━━━━━━━━━━━━━━━━━━━━\u001b[0m \u001b[1m15s\u001b[0m 123ms/step - accuracy: 0.8438 - loss: 0.8274 - mae: 0.0107 - mape: 5352243.0000 - mse: 0.0054 - rmse: 0.0735\n",
      "Epoch 26: val_loss improved from 0.35278 to 0.35231, saving model to best_model.h5\n"
     ]
    },
    {
     "name": "stderr",
     "output_type": "stream",
     "text": [
      "WARNING:absl:You are saving your model as an HDF5 file via `model.save()` or `keras.saving.save_model(model)`. This file format is considered legacy. We recommend using instead the native Keras format, e.g. `model.save('my_model.keras')` or `keras.saving.save_model(model, 'my_model.keras')`. \n"
     ]
    },
    {
     "name": "stdout",
     "output_type": "stream",
     "text": [
      "\u001b[1m130/130\u001b[0m \u001b[32m━━━━━━━━━━━━━━━━━━━━\u001b[0m\u001b[37m\u001b[0m \u001b[1m3s\u001b[0m 21ms/step - accuracy: 0.8438 - loss: 0.8274 - mae: 0.0107 - mape: 5352243.0000 - mse: 0.0054 - rmse: 0.0735 - val_accuracy: 0.8970 - val_loss: 0.3523 - val_mae: 0.0058 - val_mape: 2894867.0000 - val_mse: 0.0026 - val_rmse: 0.0414 - learning_rate: 2.5000e-04\n",
      "Epoch 27/100\n",
      "\u001b[1m130/130\u001b[0m \u001b[32m━━━━━━━━━━━━━━━━━━━━\u001b[0m\u001b[37m\u001b[0m \u001b[1m0s\u001b[0m 193ms/step - accuracy: 0.8592 - loss: 0.4573 - mae: 0.0081 - mape: 4053382.5000 - mse: 0.0034 - rmse: 0.0579\n",
      "Epoch 27: val_loss did not improve from 0.35231\n",
      "\u001b[1m130/130\u001b[0m \u001b[32m━━━━━━━━━━━━━━━━━━━━\u001b[0m\u001b[37m\u001b[0m \u001b[1m28s\u001b[0m 213ms/step - accuracy: 0.8591 - loss: 0.4574 - mae: 0.0081 - mape: 4053701.2500 - mse: 0.0034 - rmse: 0.0579 - val_accuracy: 0.8866 - val_loss: 0.3710 - val_mae: 0.0057 - val_mape: 2858599.7500 - val_mse: 0.0027 - val_rmse: 0.0425 - learning_rate: 2.5000e-04\n",
      "Epoch 28/100\n",
      "\u001b[1m  1/130\u001b[0m \u001b[37m━━━━━━━━━━━━━━━━━━━━\u001b[0m \u001b[1m13s\u001b[0m 104ms/step - accuracy: 0.8438 - loss: 0.4311 - mae: 0.0073 - mape: 3665033.5000 - mse: 0.0034 - rmse: 0.0586\n",
      "Epoch 28: val_loss did not improve from 0.35231\n",
      "\u001b[1m130/130\u001b[0m \u001b[32m━━━━━━━━━━━━━━━━━━━━\u001b[0m\u001b[37m\u001b[0m \u001b[1m3s\u001b[0m 20ms/step - accuracy: 0.8438 - loss: 0.4311 - mae: 0.0073 - mape: 3665033.5000 - mse: 0.0034 - rmse: 0.0586 - val_accuracy: 0.8854 - val_loss: 0.3700 - val_mae: 0.0057 - val_mape: 2862457.7500 - val_mse: 0.0027 - val_rmse: 0.0426 - learning_rate: 2.5000e-04\n",
      "Epoch 29/100\n",
      "\u001b[1m130/130\u001b[0m \u001b[32m━━━━━━━━━━━━━━━━━━━━\u001b[0m\u001b[37m\u001b[0m \u001b[1m0s\u001b[0m 170ms/step - accuracy: 0.8617 - loss: 0.4428 - mae: 0.0079 - mape: 3952272.2500 - mse: 0.0034 - rmse: 0.0574\n",
      "Epoch 29: ReduceLROnPlateau reducing learning rate to 0.0001250000059371814.\n",
      "\n",
      "Epoch 29: val_loss did not improve from 0.35231\n",
      "\u001b[1m130/130\u001b[0m \u001b[32m━━━━━━━━━━━━━━━━━━━━\u001b[0m\u001b[37m\u001b[0m \u001b[1m25s\u001b[0m 190ms/step - accuracy: 0.8617 - loss: 0.4427 - mae: 0.0079 - mape: 3951477.2500 - mse: 0.0034 - rmse: 0.0574 - val_accuracy: 0.8843 - val_loss: 0.3711 - val_mae: 0.0057 - val_mape: 2864906.7500 - val_mse: 0.0028 - val_rmse: 0.0444 - learning_rate: 2.5000e-04\n",
      "Epoch 30/100\n",
      "\u001b[1m  1/130\u001b[0m \u001b[37m━━━━━━━━━━━━━━━━━━━━\u001b[0m \u001b[1m16s\u001b[0m 127ms/step - accuracy: 0.7812 - loss: 0.5603 - mae: 0.0093 - mape: 4668351.0000 - mse: 0.0049 - rmse: 0.0697\n",
      "Epoch 30: val_loss did not improve from 0.35231\n",
      "\u001b[1m130/130\u001b[0m \u001b[32m━━━━━━━━━━━━━━━━━━━━\u001b[0m\u001b[37m\u001b[0m \u001b[1m3s\u001b[0m 20ms/step - accuracy: 0.7812 - loss: 0.5603 - mae: 0.0093 - mape: 4668351.0000 - mse: 0.0049 - rmse: 0.0697 - val_accuracy: 0.8831 - val_loss: 0.3656 - val_mae: 0.0057 - val_mape: 2843247.5000 - val_mse: 0.0027 - val_rmse: 0.0440 - learning_rate: 1.2500e-04\n",
      "Epoch 31/100\n",
      "\u001b[1m130/130\u001b[0m \u001b[32m━━━━━━━━━━━━━━━━━━━━\u001b[0m\u001b[37m\u001b[0m \u001b[1m0s\u001b[0m 201ms/step - accuracy: 0.8884 - loss: 0.3765 - mae: 0.0068 - mape: 3414666.5000 - mse: 0.0028 - rmse: 0.0518\n",
      "Epoch 31: val_loss improved from 0.35231 to 0.27782, saving model to best_model.h5\n"
     ]
    },
    {
     "name": "stderr",
     "output_type": "stream",
     "text": [
      "WARNING:absl:You are saving your model as an HDF5 file via `model.save()` or `keras.saving.save_model(model)`. This file format is considered legacy. We recommend using instead the native Keras format, e.g. `model.save('my_model.keras')` or `keras.saving.save_model(model, 'my_model.keras')`. \n"
     ]
    },
    {
     "name": "stdout",
     "output_type": "stream",
     "text": [
      "\u001b[1m130/130\u001b[0m \u001b[32m━━━━━━━━━━━━━━━━━━━━\u001b[0m\u001b[37m\u001b[0m \u001b[1m29s\u001b[0m 223ms/step - accuracy: 0.8884 - loss: 0.3765 - mae: 0.0068 - mape: 3414374.5000 - mse: 0.0028 - rmse: 0.0518 - val_accuracy: 0.9097 - val_loss: 0.2778 - val_mae: 0.0045 - val_mape: 2245893.7500 - val_mse: 0.0020 - val_rmse: 0.0354 - learning_rate: 1.2500e-04\n",
      "Epoch 32/100\n",
      "\u001b[1m  1/130\u001b[0m \u001b[37m━━━━━━━━━━━━━━━━━━━━\u001b[0m \u001b[1m18s\u001b[0m 142ms/step - accuracy: 0.9062 - loss: 0.3819 - mae: 0.0066 - mape: 3311823.0000 - mse: 0.0029 - rmse: 0.0540\n",
      "Epoch 32: val_loss improved from 0.27782 to 0.27541, saving model to best_model.h5\n"
     ]
    },
    {
     "name": "stderr",
     "output_type": "stream",
     "text": [
      "WARNING:absl:You are saving your model as an HDF5 file via `model.save()` or `keras.saving.save_model(model)`. This file format is considered legacy. We recommend using instead the native Keras format, e.g. `model.save('my_model.keras')` or `keras.saving.save_model(model, 'my_model.keras')`. \n"
     ]
    },
    {
     "name": "stdout",
     "output_type": "stream",
     "text": [
      "\u001b[1m130/130\u001b[0m \u001b[32m━━━━━━━━━━━━━━━━━━━━\u001b[0m\u001b[37m\u001b[0m \u001b[1m3s\u001b[0m 22ms/step - accuracy: 0.9062 - loss: 0.3819 - mae: 0.0066 - mape: 3311823.0000 - mse: 0.0029 - rmse: 0.0540 - val_accuracy: 0.9120 - val_loss: 0.2754 - val_mae: 0.0045 - val_mape: 2235013.5000 - val_mse: 0.0020 - val_rmse: 0.0353 - learning_rate: 1.2500e-04\n",
      "Epoch 33/100\n",
      "\u001b[1m130/130\u001b[0m \u001b[32m━━━━━━━━━━━━━━━━━━━━\u001b[0m\u001b[37m\u001b[0m \u001b[1m0s\u001b[0m 212ms/step - accuracy: 0.8961 - loss: 0.3625 - mae: 0.0068 - mape: 3376373.0000 - mse: 0.0027 - rmse: 0.0516\n",
      "Epoch 33: val_loss improved from 0.27541 to 0.25526, saving model to best_model.h5\n"
     ]
    },
    {
     "name": "stderr",
     "output_type": "stream",
     "text": [
      "WARNING:absl:You are saving your model as an HDF5 file via `model.save()` or `keras.saving.save_model(model)`. This file format is considered legacy. We recommend using instead the native Keras format, e.g. `model.save('my_model.keras')` or `keras.saving.save_model(model, 'my_model.keras')`. \n"
     ]
    },
    {
     "name": "stdout",
     "output_type": "stream",
     "text": [
      "\u001b[1m130/130\u001b[0m \u001b[32m━━━━━━━━━━━━━━━━━━━━\u001b[0m\u001b[37m\u001b[0m \u001b[1m31s\u001b[0m 236ms/step - accuracy: 0.8961 - loss: 0.3625 - mae: 0.0068 - mape: 3375626.7500 - mse: 0.0027 - rmse: 0.0515 - val_accuracy: 0.9178 - val_loss: 0.2553 - val_mae: 0.0042 - val_mape: 2116934.2500 - val_mse: 0.0019 - val_rmse: 0.0344 - learning_rate: 1.2500e-04\n",
      "Epoch 34/100\n",
      "\u001b[1m  1/130\u001b[0m \u001b[37m━━━━━━━━━━━━━━━━━━━━\u001b[0m \u001b[1m14s\u001b[0m 109ms/step - accuracy: 0.7500 - loss: 0.5882 - mae: 0.0106 - mape: 5322107.5000 - mse: 0.0055 - rmse: 0.0739\n",
      "Epoch 34: val_loss improved from 0.25526 to 0.25521, saving model to best_model.h5\n"
     ]
    },
    {
     "name": "stderr",
     "output_type": "stream",
     "text": [
      "WARNING:absl:You are saving your model as an HDF5 file via `model.save()` or `keras.saving.save_model(model)`. This file format is considered legacy. We recommend using instead the native Keras format, e.g. `model.save('my_model.keras')` or `keras.saving.save_model(model, 'my_model.keras')`. \n"
     ]
    },
    {
     "name": "stdout",
     "output_type": "stream",
     "text": [
      "\u001b[1m130/130\u001b[0m \u001b[32m━━━━━━━━━━━━━━━━━━━━\u001b[0m\u001b[37m\u001b[0m \u001b[1m3s\u001b[0m 23ms/step - accuracy: 0.7500 - loss: 0.5882 - mae: 0.0106 - mape: 5322107.5000 - mse: 0.0055 - rmse: 0.0739 - val_accuracy: 0.9167 - val_loss: 0.2552 - val_mae: 0.0042 - val_mape: 2118840.5000 - val_mse: 0.0019 - val_rmse: 0.0344 - learning_rate: 1.2500e-04\n",
      "Epoch 35/100\n",
      "\u001b[1m130/130\u001b[0m \u001b[32m━━━━━━━━━━━━━━━━━━━━\u001b[0m\u001b[37m\u001b[0m \u001b[1m0s\u001b[0m 227ms/step - accuracy: 0.8991 - loss: 0.3508 - mae: 0.0064 - mape: 3190222.0000 - mse: 0.0026 - rmse: 0.0500\n",
      "Epoch 35: val_loss improved from 0.25521 to 0.24468, saving model to best_model.h5\n"
     ]
    },
    {
     "name": "stderr",
     "output_type": "stream",
     "text": [
      "WARNING:absl:You are saving your model as an HDF5 file via `model.save()` or `keras.saving.save_model(model)`. This file format is considered legacy. We recommend using instead the native Keras format, e.g. `model.save('my_model.keras')` or `keras.saving.save_model(model, 'my_model.keras')`. \n"
     ]
    },
    {
     "name": "stdout",
     "output_type": "stream",
     "text": [
      "\u001b[1m130/130\u001b[0m \u001b[32m━━━━━━━━━━━━━━━━━━━━\u001b[0m\u001b[37m\u001b[0m \u001b[1m33s\u001b[0m 250ms/step - accuracy: 0.8991 - loss: 0.3508 - mae: 0.0064 - mape: 3190036.7500 - mse: 0.0026 - rmse: 0.0500 - val_accuracy: 0.9248 - val_loss: 0.2447 - val_mae: 0.0040 - val_mape: 2024220.8750 - val_mse: 0.0018 - val_rmse: 0.0330 - learning_rate: 1.2500e-04\n",
      "Epoch 36/100\n",
      "\u001b[1m  1/130\u001b[0m \u001b[37m━━━━━━━━━━━━━━━━━━━━\u001b[0m \u001b[1m13s\u001b[0m 105ms/step - accuracy: 0.8438 - loss: 0.4310 - mae: 0.0090 - mape: 4516418.0000 - mse: 0.0038 - rmse: 0.0614\n",
      "Epoch 36: val_loss did not improve from 0.24468\n",
      "\u001b[1m130/130\u001b[0m \u001b[32m━━━━━━━━━━━━━━━━━━━━\u001b[0m\u001b[37m\u001b[0m \u001b[1m3s\u001b[0m 23ms/step - accuracy: 0.8438 - loss: 0.4310 - mae: 0.0090 - mape: 4516418.0000 - mse: 0.0038 - rmse: 0.0614 - val_accuracy: 0.9236 - val_loss: 0.2466 - val_mae: 0.0041 - val_mape: 2031662.1250 - val_mse: 0.0018 - val_rmse: 0.0332 - learning_rate: 1.2500e-04\n",
      "Epoch 37/100\n",
      "\u001b[1m130/130\u001b[0m \u001b[32m━━━━━━━━━━━━━━━━━━━━\u001b[0m\u001b[37m\u001b[0m \u001b[1m0s\u001b[0m 192ms/step - accuracy: 0.9083 - loss: 0.3202 - mae: 0.0059 - mape: 2971758.2500 - mse: 0.0024 - rmse: 0.0480\n",
      "Epoch 37: val_loss improved from 0.24468 to 0.24026, saving model to best_model.h5\n"
     ]
    },
    {
     "name": "stderr",
     "output_type": "stream",
     "text": [
      "WARNING:absl:You are saving your model as an HDF5 file via `model.save()` or `keras.saving.save_model(model)`. This file format is considered legacy. We recommend using instead the native Keras format, e.g. `model.save('my_model.keras')` or `keras.saving.save_model(model, 'my_model.keras')`. \n"
     ]
    },
    {
     "name": "stdout",
     "output_type": "stream",
     "text": [
      "\u001b[1m130/130\u001b[0m \u001b[32m━━━━━━━━━━━━━━━━━━━━\u001b[0m\u001b[37m\u001b[0m \u001b[1m28s\u001b[0m 212ms/step - accuracy: 0.9082 - loss: 0.3203 - mae: 0.0059 - mape: 2972434.5000 - mse: 0.0024 - rmse: 0.0480 - val_accuracy: 0.9213 - val_loss: 0.2403 - val_mae: 0.0039 - val_mape: 1957585.5000 - val_mse: 0.0018 - val_rmse: 0.0315 - learning_rate: 1.2500e-04\n",
      "Epoch 38/100\n",
      "\u001b[1m  1/130\u001b[0m \u001b[37m━━━━━━━━━━━━━━━━━━━━\u001b[0m \u001b[1m17s\u001b[0m 135ms/step - accuracy: 0.9062 - loss: 0.3519 - mae: 0.0064 - mape: 3215092.0000 - mse: 0.0025 - rmse: 0.0496\n",
      "Epoch 38: val_loss improved from 0.24026 to 0.23842, saving model to best_model.h5\n"
     ]
    },
    {
     "name": "stderr",
     "output_type": "stream",
     "text": [
      "WARNING:absl:You are saving your model as an HDF5 file via `model.save()` or `keras.saving.save_model(model)`. This file format is considered legacy. We recommend using instead the native Keras format, e.g. `model.save('my_model.keras')` or `keras.saving.save_model(model, 'my_model.keras')`. \n"
     ]
    },
    {
     "name": "stdout",
     "output_type": "stream",
     "text": [
      "\u001b[1m130/130\u001b[0m \u001b[32m━━━━━━━━━━━━━━━━━━━━\u001b[0m\u001b[37m\u001b[0m \u001b[1m3s\u001b[0m 24ms/step - accuracy: 0.9062 - loss: 0.3519 - mae: 0.0064 - mape: 3215092.0000 - mse: 0.0025 - rmse: 0.0496 - val_accuracy: 0.9213 - val_loss: 0.2384 - val_mae: 0.0039 - val_mape: 1948088.1250 - val_mse: 0.0018 - val_rmse: 0.0314 - learning_rate: 1.2500e-04\n",
      "Epoch 39/100\n",
      "\u001b[1m130/130\u001b[0m \u001b[32m━━━━━━━━━━━━━━━━━━━━\u001b[0m\u001b[37m\u001b[0m \u001b[1m0s\u001b[0m 220ms/step - accuracy: 0.9081 - loss: 0.3089 - mae: 0.0060 - mape: 2984208.0000 - mse: 0.0023 - rmse: 0.0477\n",
      "Epoch 39: val_loss improved from 0.23842 to 0.21375, saving model to best_model.h5\n"
     ]
    },
    {
     "name": "stderr",
     "output_type": "stream",
     "text": [
      "WARNING:absl:You are saving your model as an HDF5 file via `model.save()` or `keras.saving.save_model(model)`. This file format is considered legacy. We recommend using instead the native Keras format, e.g. `model.save('my_model.keras')` or `keras.saving.save_model(model, 'my_model.keras')`. \n"
     ]
    },
    {
     "name": "stdout",
     "output_type": "stream",
     "text": [
      "\u001b[1m130/130\u001b[0m \u001b[32m━━━━━━━━━━━━━━━━━━━━\u001b[0m\u001b[37m\u001b[0m \u001b[1m31s\u001b[0m 241ms/step - accuracy: 0.9081 - loss: 0.3090 - mae: 0.0060 - mape: 2984225.7500 - mse: 0.0023 - rmse: 0.0477 - val_accuracy: 0.9363 - val_loss: 0.2137 - val_mae: 0.0035 - val_mape: 1748559.0000 - val_mse: 0.0016 - val_rmse: 0.0296 - learning_rate: 1.2500e-04\n",
      "Epoch 40/100\n",
      "\u001b[1m  1/130\u001b[0m \u001b[37m━━━━━━━━━━━━━━━━━━━━\u001b[0m \u001b[1m18s\u001b[0m 140ms/step - accuracy: 0.8750 - loss: 0.2904 - mae: 0.0056 - mape: 2776160.2500 - mse: 0.0024 - rmse: 0.0488\n",
      "Epoch 40: val_loss did not improve from 0.21375\n",
      "\u001b[1m130/130\u001b[0m \u001b[32m━━━━━━━━━━━━━━━━━━━━\u001b[0m\u001b[37m\u001b[0m \u001b[1m3s\u001b[0m 22ms/step - accuracy: 0.8750 - loss: 0.2904 - mae: 0.0056 - mape: 2776160.2500 - mse: 0.0024 - rmse: 0.0488 - val_accuracy: 0.9340 - val_loss: 0.2145 - val_mae: 0.0035 - val_mape: 1749183.3750 - val_mse: 0.0016 - val_rmse: 0.0296 - learning_rate: 1.2500e-04\n",
      "Epoch 41/100\n",
      "\u001b[1m130/130\u001b[0m \u001b[32m━━━━━━━━━━━━━━━━━━━━\u001b[0m\u001b[37m\u001b[0m \u001b[1m0s\u001b[0m 261ms/step - accuracy: 0.9139 - loss: 0.3081 - mae: 0.0058 - mape: 2897992.0000 - mse: 0.0023 - rmse: 0.0470\n",
      "Epoch 41: val_loss did not improve from 0.21375\n",
      "\u001b[1m130/130\u001b[0m \u001b[32m━━━━━━━━━━━━━━━━━━━━\u001b[0m\u001b[37m\u001b[0m \u001b[1m38s\u001b[0m 290ms/step - accuracy: 0.9139 - loss: 0.3081 - mae: 0.0058 - mape: 2898081.0000 - mse: 0.0023 - rmse: 0.0470 - val_accuracy: 0.9317 - val_loss: 0.2192 - val_mae: 0.0035 - val_mape: 1749417.1250 - val_mse: 0.0016 - val_rmse: 0.0302 - learning_rate: 1.2500e-04\n",
      "Epoch 42/100\n",
      "\u001b[1m  1/130\u001b[0m \u001b[37m━━━━━━━━━━━━━━━━━━━━\u001b[0m \u001b[1m22s\u001b[0m 174ms/step - accuracy: 0.8750 - loss: 0.4816 - mae: 0.0078 - mape: 3909145.2500 - mse: 0.0034 - rmse: 0.0587\n",
      "Epoch 42: ReduceLROnPlateau reducing learning rate to 6.25000029685907e-05.\n",
      "\n",
      "Epoch 42: val_loss did not improve from 0.21375\n",
      "\u001b[1m130/130\u001b[0m \u001b[32m━━━━━━━━━━━━━━━━━━━━\u001b[0m\u001b[37m\u001b[0m \u001b[1m4s\u001b[0m 32ms/step - accuracy: 0.8750 - loss: 0.4816 - mae: 0.0078 - mape: 3909145.2500 - mse: 0.0034 - rmse: 0.0587 - val_accuracy: 0.9329 - val_loss: 0.2200 - val_mae: 0.0035 - val_mape: 1749690.6250 - val_mse: 0.0016 - val_rmse: 0.0302 - learning_rate: 1.2500e-04\n",
      "Epoch 43/100\n",
      "\u001b[1m130/130\u001b[0m \u001b[32m━━━━━━━━━━━━━━━━━━━━\u001b[0m\u001b[37m\u001b[0m \u001b[1m0s\u001b[0m 271ms/step - accuracy: 0.9214 - loss: 0.2810 - mae: 0.0054 - mape: 2711192.2500 - mse: 0.0021 - rmse: 0.0445\n",
      "Epoch 43: val_loss improved from 0.21375 to 0.18941, saving model to best_model.h5\n"
     ]
    },
    {
     "name": "stderr",
     "output_type": "stream",
     "text": [
      "WARNING:absl:You are saving your model as an HDF5 file via `model.save()` or `keras.saving.save_model(model)`. This file format is considered legacy. We recommend using instead the native Keras format, e.g. `model.save('my_model.keras')` or `keras.saving.save_model(model, 'my_model.keras')`. \n"
     ]
    },
    {
     "name": "stdout",
     "output_type": "stream",
     "text": [
      "\u001b[1m130/130\u001b[0m \u001b[32m━━━━━━━━━━━━━━━━━━━━\u001b[0m\u001b[37m\u001b[0m \u001b[1m39s\u001b[0m 300ms/step - accuracy: 0.9214 - loss: 0.2810 - mae: 0.0054 - mape: 2711226.7500 - mse: 0.0021 - rmse: 0.0445 - val_accuracy: 0.9421 - val_loss: 0.1894 - val_mae: 0.0033 - val_mape: 1651625.7500 - val_mse: 0.0014 - val_rmse: 0.0294 - learning_rate: 6.2500e-05\n",
      "Epoch 44/100\n",
      "\u001b[1m  1/130\u001b[0m \u001b[37m━━━━━━━━━━━━━━━━━━━━\u001b[0m \u001b[1m16s\u001b[0m 131ms/step - accuracy: 1.0000 - loss: 0.1110 - mae: 0.0032 - mape: 1590950.2500 - mse: 6.6602e-04 - rmse: 0.0258\n",
      "Epoch 44: val_loss improved from 0.18941 to 0.18936, saving model to best_model.h5\n"
     ]
    },
    {
     "name": "stderr",
     "output_type": "stream",
     "text": [
      "WARNING:absl:You are saving your model as an HDF5 file via `model.save()` or `keras.saving.save_model(model)`. This file format is considered legacy. We recommend using instead the native Keras format, e.g. `model.save('my_model.keras')` or `keras.saving.save_model(model, 'my_model.keras')`. \n"
     ]
    },
    {
     "name": "stdout",
     "output_type": "stream",
     "text": [
      "\u001b[1m130/130\u001b[0m \u001b[32m━━━━━━━━━━━━━━━━━━━━\u001b[0m\u001b[37m\u001b[0m \u001b[1m4s\u001b[0m 31ms/step - accuracy: 1.0000 - loss: 0.1110 - mae: 0.0032 - mape: 1590950.2500 - mse: 6.6602e-04 - rmse: 0.0258 - val_accuracy: 0.9421 - val_loss: 0.1894 - val_mae: 0.0033 - val_mape: 1651261.8750 - val_mse: 0.0014 - val_rmse: 0.0293 - learning_rate: 6.2500e-05\n",
      "Epoch 45/100\n",
      "\u001b[1m130/130\u001b[0m \u001b[32m━━━━━━━━━━━━━━━━━━━━\u001b[0m\u001b[37m\u001b[0m \u001b[1m0s\u001b[0m 253ms/step - accuracy: 0.9191 - loss: 0.2657 - mae: 0.0053 - mape: 2639802.7500 - mse: 0.0020 - rmse: 0.0442\n",
      "Epoch 45: val_loss improved from 0.18936 to 0.18432, saving model to best_model.h5\n"
     ]
    },
    {
     "name": "stderr",
     "output_type": "stream",
     "text": [
      "WARNING:absl:You are saving your model as an HDF5 file via `model.save()` or `keras.saving.save_model(model)`. This file format is considered legacy. We recommend using instead the native Keras format, e.g. `model.save('my_model.keras')` or `keras.saving.save_model(model, 'my_model.keras')`. \n"
     ]
    },
    {
     "name": "stdout",
     "output_type": "stream",
     "text": [
      "\u001b[1m130/130\u001b[0m \u001b[32m━━━━━━━━━━━━━━━━━━━━\u001b[0m\u001b[37m\u001b[0m \u001b[1m36s\u001b[0m 278ms/step - accuracy: 0.9191 - loss: 0.2657 - mae: 0.0053 - mape: 2639708.7500 - mse: 0.0020 - rmse: 0.0441 - val_accuracy: 0.9433 - val_loss: 0.1843 - val_mae: 0.0031 - val_mape: 1559175.3750 - val_mse: 0.0014 - val_rmse: 0.0277 - learning_rate: 6.2500e-05\n",
      "Epoch 46/100\n",
      "\u001b[1m  1/130\u001b[0m \u001b[37m━━━━━━━━━━━━━━━━━━━━\u001b[0m \u001b[1m19s\u001b[0m 151ms/step - accuracy: 0.8438 - loss: 0.4098 - mae: 0.0077 - mape: 3857002.2500 - mse: 0.0035 - rmse: 0.0590\n",
      "Epoch 46: val_loss improved from 0.18432 to 0.18417, saving model to best_model.h5\n"
     ]
    },
    {
     "name": "stderr",
     "output_type": "stream",
     "text": [
      "WARNING:absl:You are saving your model as an HDF5 file via `model.save()` or `keras.saving.save_model(model)`. This file format is considered legacy. We recommend using instead the native Keras format, e.g. `model.save('my_model.keras')` or `keras.saving.save_model(model, 'my_model.keras')`. \n"
     ]
    },
    {
     "name": "stdout",
     "output_type": "stream",
     "text": [
      "\u001b[1m130/130\u001b[0m \u001b[32m━━━━━━━━━━━━━━━━━━━━\u001b[0m\u001b[37m\u001b[0m \u001b[1m4s\u001b[0m 31ms/step - accuracy: 0.8438 - loss: 0.4098 - mae: 0.0077 - mape: 3857002.2500 - mse: 0.0035 - rmse: 0.0590 - val_accuracy: 0.9433 - val_loss: 0.1842 - val_mae: 0.0031 - val_mape: 1558544.0000 - val_mse: 0.0014 - val_rmse: 0.0277 - learning_rate: 6.2500e-05\n",
      "Epoch 47/100\n",
      "\u001b[1m130/130\u001b[0m \u001b[32m━━━━━━━━━━━━━━━━━━━━\u001b[0m\u001b[37m\u001b[0m \u001b[1m0s\u001b[0m 261ms/step - accuracy: 0.9318 - loss: 0.2533 - mae: 0.0051 - mape: 2542315.0000 - mse: 0.0019 - rmse: 0.0423\n",
      "Epoch 47: val_loss did not improve from 0.18417\n",
      "\u001b[1m130/130\u001b[0m \u001b[32m━━━━━━━━━━━━━━━━━━━━\u001b[0m\u001b[37m\u001b[0m \u001b[1m38s\u001b[0m 288ms/step - accuracy: 0.9318 - loss: 0.2533 - mae: 0.0051 - mape: 2542330.7500 - mse: 0.0019 - rmse: 0.0423 - val_accuracy: 0.9410 - val_loss: 0.1860 - val_mae: 0.0031 - val_mape: 1563638.5000 - val_mse: 0.0014 - val_rmse: 0.0273 - learning_rate: 6.2500e-05\n",
      "Epoch 48/100\n",
      "\u001b[1m  1/130\u001b[0m \u001b[37m━━━━━━━━━━━━━━━━━━━━\u001b[0m \u001b[1m22s\u001b[0m 174ms/step - accuracy: 0.9688 - loss: 0.1597 - mae: 0.0041 - mape: 2065806.0000 - mse: 0.0013 - rmse: 0.0357\n",
      "Epoch 48: val_loss did not improve from 0.18417\n",
      "\u001b[1m130/130\u001b[0m \u001b[32m━━━━━━━━━━━━━━━━━━━━\u001b[0m\u001b[37m\u001b[0m \u001b[1m4s\u001b[0m 30ms/step - accuracy: 0.9688 - loss: 0.1597 - mae: 0.0041 - mape: 2065806.0000 - mse: 0.0013 - rmse: 0.0357 - val_accuracy: 0.9410 - val_loss: 0.1872 - val_mae: 0.0031 - val_mape: 1566612.7500 - val_mse: 0.0014 - val_rmse: 0.0274 - learning_rate: 6.2500e-05\n",
      "Epoch 49/100\n",
      "\u001b[1m130/130\u001b[0m \u001b[32m━━━━━━━━━━━━━━━━━━━━\u001b[0m\u001b[37m\u001b[0m \u001b[1m0s\u001b[0m 269ms/step - accuracy: 0.9166 - loss: 0.2764 - mae: 0.0053 - mape: 2629501.2500 - mse: 0.0021 - rmse: 0.0442\n",
      "Epoch 49: val_loss improved from 0.18417 to 0.17086, saving model to best_model.h5\n"
     ]
    },
    {
     "name": "stderr",
     "output_type": "stream",
     "text": [
      "WARNING:absl:You are saving your model as an HDF5 file via `model.save()` or `keras.saving.save_model(model)`. This file format is considered legacy. We recommend using instead the native Keras format, e.g. `model.save('my_model.keras')` or `keras.saving.save_model(model, 'my_model.keras')`. \n"
     ]
    },
    {
     "name": "stdout",
     "output_type": "stream",
     "text": [
      "\u001b[1m130/130\u001b[0m \u001b[32m━━━━━━━━━━━━━━━━━━━━\u001b[0m\u001b[37m\u001b[0m \u001b[1m39s\u001b[0m 297ms/step - accuracy: 0.9167 - loss: 0.2762 - mae: 0.0053 - mape: 2628311.7500 - mse: 0.0021 - rmse: 0.0442 - val_accuracy: 0.9479 - val_loss: 0.1709 - val_mae: 0.0029 - val_mape: 1468253.5000 - val_mse: 0.0013 - val_rmse: 0.0258 - learning_rate: 6.2500e-05\n",
      "Epoch 50/100\n",
      "\u001b[1m  1/130\u001b[0m \u001b[37m━━━━━━━━━━━━━━━━━━━━\u001b[0m \u001b[1m16s\u001b[0m 130ms/step - accuracy: 0.9688 - loss: 0.2172 - mae: 0.0053 - mape: 2668679.0000 - mse: 0.0017 - rmse: 0.0411\n",
      "Epoch 50: val_loss did not improve from 0.17086\n",
      "\u001b[1m130/130\u001b[0m \u001b[32m━━━━━━━━━━━━━━━━━━━━\u001b[0m\u001b[37m\u001b[0m \u001b[1m4s\u001b[0m 31ms/step - accuracy: 0.9688 - loss: 0.2172 - mae: 0.0053 - mape: 2668679.0000 - mse: 0.0017 - rmse: 0.0411 - val_accuracy: 0.9479 - val_loss: 0.1710 - val_mae: 0.0029 - val_mape: 1464973.7500 - val_mse: 0.0013 - val_rmse: 0.0258 - learning_rate: 6.2500e-05\n",
      "Epoch 51/100\n",
      "\u001b[1m130/130\u001b[0m \u001b[32m━━━━━━━━━━━━━━━━━━━━\u001b[0m\u001b[37m\u001b[0m \u001b[1m0s\u001b[0m 259ms/step - accuracy: 0.9243 - loss: 0.2562 - mae: 0.0051 - mape: 2535089.2500 - mse: 0.0019 - rmse: 0.0432\n",
      "Epoch 51: val_loss improved from 0.17086 to 0.16650, saving model to best_model.h5\n"
     ]
    },
    {
     "name": "stderr",
     "output_type": "stream",
     "text": [
      "WARNING:absl:You are saving your model as an HDF5 file via `model.save()` or `keras.saving.save_model(model)`. This file format is considered legacy. We recommend using instead the native Keras format, e.g. `model.save('my_model.keras')` or `keras.saving.save_model(model, 'my_model.keras')`. \n"
     ]
    },
    {
     "name": "stdout",
     "output_type": "stream",
     "text": [
      "\u001b[1m130/130\u001b[0m \u001b[32m━━━━━━━━━━━━━━━━━━━━\u001b[0m\u001b[37m\u001b[0m \u001b[1m37s\u001b[0m 283ms/step - accuracy: 0.9244 - loss: 0.2562 - mae: 0.0051 - mape: 2534403.2500 - mse: 0.0019 - rmse: 0.0432 - val_accuracy: 0.9468 - val_loss: 0.1665 - val_mae: 0.0029 - val_mape: 1451696.0000 - val_mse: 0.0012 - val_rmse: 0.0256 - learning_rate: 6.2500e-05\n",
      "Epoch 52/100\n",
      "\u001b[1m  1/130\u001b[0m \u001b[37m━━━━━━━━━━━━━━━━━━━━\u001b[0m \u001b[1m24s\u001b[0m 191ms/step - accuracy: 0.9062 - loss: 0.3480 - mae: 0.0071 - mape: 3553571.7500 - mse: 0.0028 - rmse: 0.0530\n",
      "Epoch 52: val_loss did not improve from 0.16650\n",
      "\u001b[1m130/130\u001b[0m \u001b[32m━━━━━━━━━━━━━━━━━━━━\u001b[0m\u001b[37m\u001b[0m \u001b[1m3s\u001b[0m 22ms/step - accuracy: 0.9062 - loss: 0.3480 - mae: 0.0071 - mape: 3553571.7500 - mse: 0.0028 - rmse: 0.0530 - val_accuracy: 0.9468 - val_loss: 0.1668 - val_mae: 0.0029 - val_mape: 1452027.3750 - val_mse: 0.0012 - val_rmse: 0.0255 - learning_rate: 6.2500e-05\n",
      "Epoch 53/100\n",
      "\u001b[1m130/130\u001b[0m \u001b[32m━━━━━━━━━━━━━━━━━━━━\u001b[0m\u001b[37m\u001b[0m \u001b[1m0s\u001b[0m 279ms/step - accuracy: 0.9337 - loss: 0.2474 - mae: 0.0049 - mape: 2461010.0000 - mse: 0.0018 - rmse: 0.0417\n",
      "Epoch 53: val_loss did not improve from 0.16650\n",
      "\u001b[1m130/130\u001b[0m \u001b[32m━━━━━━━━━━━━━━━━━━━━\u001b[0m\u001b[37m\u001b[0m \u001b[1m41s\u001b[0m 311ms/step - accuracy: 0.9337 - loss: 0.2473 - mae: 0.0049 - mape: 2460532.2500 - mse: 0.0018 - rmse: 0.0417 - val_accuracy: 0.9410 - val_loss: 0.1743 - val_mae: 0.0029 - val_mape: 1447943.8750 - val_mse: 0.0013 - val_rmse: 0.0257 - learning_rate: 6.2500e-05\n",
      "Epoch 54/100\n",
      "\u001b[1m  1/130\u001b[0m \u001b[37m━━━━━━━━━━━━━━━━━━━━\u001b[0m \u001b[1m15s\u001b[0m 120ms/step - accuracy: 0.9375 - loss: 0.2583 - mae: 0.0064 - mape: 3182592.0000 - mse: 0.0021 - rmse: 0.0462\n",
      "Epoch 54: ReduceLROnPlateau reducing learning rate to 3.125000148429535e-05.\n",
      "\n",
      "Epoch 54: val_loss did not improve from 0.16650\n",
      "\u001b[1m130/130\u001b[0m \u001b[32m━━━━━━━━━━━━━━━━━━━━\u001b[0m\u001b[37m\u001b[0m \u001b[1m4s\u001b[0m 27ms/step - accuracy: 0.9375 - loss: 0.2583 - mae: 0.0064 - mape: 3182592.0000 - mse: 0.0021 - rmse: 0.0462 - val_accuracy: 0.9410 - val_loss: 0.1743 - val_mae: 0.0029 - val_mape: 1447531.0000 - val_mse: 0.0014 - val_rmse: 0.0257 - learning_rate: 6.2500e-05\n",
      "Epoch 55/100\n",
      "\u001b[1m130/130\u001b[0m \u001b[32m━━━━━━━━━━━━━━━━━━━━\u001b[0m\u001b[37m\u001b[0m \u001b[1m0s\u001b[0m 288ms/step - accuracy: 0.9435 - loss: 0.2254 - mae: 0.0045 - mape: 2264219.0000 - mse: 0.0017 - rmse: 0.0398\n",
      "Epoch 55: val_loss improved from 0.16650 to 0.15500, saving model to best_model.h5\n"
     ]
    },
    {
     "name": "stderr",
     "output_type": "stream",
     "text": [
      "WARNING:absl:You are saving your model as an HDF5 file via `model.save()` or `keras.saving.save_model(model)`. This file format is considered legacy. We recommend using instead the native Keras format, e.g. `model.save('my_model.keras')` or `keras.saving.save_model(model, 'my_model.keras')`. \n"
     ]
    },
    {
     "name": "stdout",
     "output_type": "stream",
     "text": [
      "\u001b[1m130/130\u001b[0m \u001b[32m━━━━━━━━━━━━━━━━━━━━\u001b[0m\u001b[37m\u001b[0m \u001b[1m42s\u001b[0m 318ms/step - accuracy: 0.9434 - loss: 0.2254 - mae: 0.0045 - mape: 2264593.5000 - mse: 0.0017 - rmse: 0.0398 - val_accuracy: 0.9525 - val_loss: 0.1550 - val_mae: 0.0027 - val_mape: 1329207.2500 - val_mse: 0.0012 - val_rmse: 0.0244 - learning_rate: 3.1250e-05\n",
      "Epoch 56/100\n",
      "\u001b[1m  1/130\u001b[0m \u001b[37m━━━━━━━━━━━━━━━━━━━━\u001b[0m \u001b[1m17s\u001b[0m 134ms/step - accuracy: 0.9375 - loss: 0.1862 - mae: 0.0039 - mape: 1961031.3750 - mse: 0.0013 - rmse: 0.0367\n",
      "Epoch 56: val_loss improved from 0.15500 to 0.15465, saving model to best_model.h5\n"
     ]
    },
    {
     "name": "stderr",
     "output_type": "stream",
     "text": [
      "WARNING:absl:You are saving your model as an HDF5 file via `model.save()` or `keras.saving.save_model(model)`. This file format is considered legacy. We recommend using instead the native Keras format, e.g. `model.save('my_model.keras')` or `keras.saving.save_model(model, 'my_model.keras')`. \n"
     ]
    },
    {
     "name": "stdout",
     "output_type": "stream",
     "text": [
      "\u001b[1m130/130\u001b[0m \u001b[32m━━━━━━━━━━━━━━━━━━━━\u001b[0m\u001b[37m\u001b[0m \u001b[1m5s\u001b[0m 34ms/step - accuracy: 0.9375 - loss: 0.1862 - mae: 0.0039 - mape: 1961031.3750 - mse: 0.0013 - rmse: 0.0367 - val_accuracy: 0.9525 - val_loss: 0.1546 - val_mae: 0.0027 - val_mape: 1326925.8750 - val_mse: 0.0012 - val_rmse: 0.0243 - learning_rate: 3.1250e-05\n",
      "Epoch 57/100\n",
      "\u001b[1m130/130\u001b[0m \u001b[32m━━━━━━━━━━━━━━━━━━━━\u001b[0m\u001b[37m\u001b[0m \u001b[1m0s\u001b[0m 264ms/step - accuracy: 0.9399 - loss: 0.2173 - mae: 0.0046 - mape: 2280200.2500 - mse: 0.0016 - rmse: 0.0392\n",
      "Epoch 57: val_loss improved from 0.15465 to 0.15380, saving model to best_model.h5\n"
     ]
    },
    {
     "name": "stderr",
     "output_type": "stream",
     "text": [
      "WARNING:absl:You are saving your model as an HDF5 file via `model.save()` or `keras.saving.save_model(model)`. This file format is considered legacy. We recommend using instead the native Keras format, e.g. `model.save('my_model.keras')` or `keras.saving.save_model(model, 'my_model.keras')`. \n"
     ]
    },
    {
     "ename": "OSError",
     "evalue": "[Errno 0] Unable to synchronously create file (unable to lock file, errno = 0, error message = 'No error', Win32 GetLastError() = 33)",
     "output_type": "error",
     "traceback": [
      "\u001b[31m---------------------------------------------------------------------------\u001b[39m",
      "\u001b[31mOSError\u001b[39m                                   Traceback (most recent call last)",
      "\u001b[36mCell\u001b[39m\u001b[36m \u001b[39m\u001b[32mIn[7]\u001b[39m\u001b[32m, line 110\u001b[39m\n\u001b[32m    107\u001b[39m \u001b[38;5;66;03m# ===================== Train model =====================\u001b[39;00m\n\u001b[32m    108\u001b[39m epochs = \u001b[32m100\u001b[39m\n\u001b[32m--> \u001b[39m\u001b[32m110\u001b[39m history = \u001b[43mmodel\u001b[49m\u001b[43m.\u001b[49m\u001b[43mfit\u001b[49m\u001b[43m(\u001b[49m\n\u001b[32m    111\u001b[39m \u001b[43m    \u001b[49m\u001b[43mtrain_generator\u001b[49m\u001b[43m,\u001b[49m\n\u001b[32m    112\u001b[39m \u001b[43m    \u001b[49m\u001b[43msteps_per_epoch\u001b[49m\u001b[43m=\u001b[49m\u001b[43mtrain_generator\u001b[49m\u001b[43m.\u001b[49m\u001b[43msamples\u001b[49m\u001b[43m \u001b[49m\u001b[43m/\u001b[49m\u001b[43m/\u001b[49m\u001b[43m \u001b[49m\u001b[43mbatch_size\u001b[49m\u001b[43m,\u001b[49m\n\u001b[32m    113\u001b[39m \u001b[43m    \u001b[49m\u001b[43mvalidation_data\u001b[49m\u001b[43m=\u001b[49m\u001b[43mval_generator\u001b[49m\u001b[43m,\u001b[49m\n\u001b[32m    114\u001b[39m \u001b[43m    \u001b[49m\u001b[43mvalidation_steps\u001b[49m\u001b[43m=\u001b[49m\u001b[43mval_generator\u001b[49m\u001b[43m.\u001b[49m\u001b[43msamples\u001b[49m\u001b[43m \u001b[49m\u001b[43m/\u001b[49m\u001b[43m/\u001b[49m\u001b[43m \u001b[49m\u001b[43mbatch_size\u001b[49m\u001b[43m,\u001b[49m\n\u001b[32m    115\u001b[39m \u001b[43m    \u001b[49m\u001b[43mepochs\u001b[49m\u001b[43m=\u001b[49m\u001b[43mepochs\u001b[49m\u001b[43m,\u001b[49m\n\u001b[32m    116\u001b[39m \u001b[43m    \u001b[49m\u001b[43mcallbacks\u001b[49m\u001b[43m=\u001b[49m\u001b[43m[\u001b[49m\u001b[43mearly_stopping\u001b[49m\u001b[43m,\u001b[49m\u001b[43m \u001b[49m\u001b[43mreduce_lr\u001b[49m\u001b[43m,\u001b[49m\u001b[43m \u001b[49m\u001b[43mmodel_checkpoint\u001b[49m\u001b[43m]\u001b[49m\n\u001b[32m    117\u001b[39m \u001b[43m)\u001b[49m\n\u001b[32m    119\u001b[39m \u001b[38;5;66;03m# ===================== Đánh giá model và tạo ma trận nhầm lẫn =====================\u001b[39;00m\n\u001b[32m    120\u001b[39m \n\u001b[32m    121\u001b[39m \u001b[38;5;66;03m# Lưu mô hình cuối cùng\u001b[39;00m\n\u001b[32m    122\u001b[39m model.save(\u001b[33m'\u001b[39m\u001b[33mmodel2.h5\u001b[39m\u001b[33m'\u001b[39m)\n",
      "\u001b[36mFile \u001b[39m\u001b[32mc:\\Users\\T\\Desktop\\Al_Project\\Traffic-Sign-Detection-Using-CNN\\venv\\Lib\\site-packages\\keras\\src\\utils\\traceback_utils.py:122\u001b[39m, in \u001b[36mfilter_traceback.<locals>.error_handler\u001b[39m\u001b[34m(*args, **kwargs)\u001b[39m\n\u001b[32m    119\u001b[39m     filtered_tb = _process_traceback_frames(e.__traceback__)\n\u001b[32m    120\u001b[39m     \u001b[38;5;66;03m# To get the full stack trace, call:\u001b[39;00m\n\u001b[32m    121\u001b[39m     \u001b[38;5;66;03m# `keras.config.disable_traceback_filtering()`\u001b[39;00m\n\u001b[32m--> \u001b[39m\u001b[32m122\u001b[39m     \u001b[38;5;28;01mraise\u001b[39;00m e.with_traceback(filtered_tb) \u001b[38;5;28;01mfrom\u001b[39;00m\u001b[38;5;250m \u001b[39m\u001b[38;5;28;01mNone\u001b[39;00m\n\u001b[32m    123\u001b[39m \u001b[38;5;28;01mfinally\u001b[39;00m:\n\u001b[32m    124\u001b[39m     \u001b[38;5;28;01mdel\u001b[39;00m filtered_tb\n",
      "\u001b[36mFile \u001b[39m\u001b[32mc:\\Users\\T\\Desktop\\Al_Project\\Traffic-Sign-Detection-Using-CNN\\venv\\Lib\\site-packages\\h5py\\_hl\\files.py:564\u001b[39m, in \u001b[36mFile.__init__\u001b[39m\u001b[34m(self, name, mode, driver, libver, userblock_size, swmr, rdcc_nslots, rdcc_nbytes, rdcc_w0, track_order, fs_strategy, fs_persist, fs_threshold, fs_page_size, page_buf_size, min_meta_keep, min_raw_keep, locking, alignment_threshold, alignment_interval, meta_block_size, **kwds)\u001b[39m\n\u001b[32m    555\u001b[39m     fapl = make_fapl(driver, libver, rdcc_nslots, rdcc_nbytes, rdcc_w0,\n\u001b[32m    556\u001b[39m                      locking, page_buf_size, min_meta_keep, min_raw_keep,\n\u001b[32m    557\u001b[39m                      alignment_threshold=alignment_threshold,\n\u001b[32m    558\u001b[39m                      alignment_interval=alignment_interval,\n\u001b[32m    559\u001b[39m                      meta_block_size=meta_block_size,\n\u001b[32m    560\u001b[39m                      **kwds)\n\u001b[32m    561\u001b[39m     fcpl = make_fcpl(track_order=track_order, fs_strategy=fs_strategy,\n\u001b[32m    562\u001b[39m                      fs_persist=fs_persist, fs_threshold=fs_threshold,\n\u001b[32m    563\u001b[39m                      fs_page_size=fs_page_size)\n\u001b[32m--> \u001b[39m\u001b[32m564\u001b[39m     fid = \u001b[43mmake_fid\u001b[49m\u001b[43m(\u001b[49m\u001b[43mname\u001b[49m\u001b[43m,\u001b[49m\u001b[43m \u001b[49m\u001b[43mmode\u001b[49m\u001b[43m,\u001b[49m\u001b[43m \u001b[49m\u001b[43muserblock_size\u001b[49m\u001b[43m,\u001b[49m\u001b[43m \u001b[49m\u001b[43mfapl\u001b[49m\u001b[43m,\u001b[49m\u001b[43m \u001b[49m\u001b[43mfcpl\u001b[49m\u001b[43m,\u001b[49m\u001b[43m \u001b[49m\u001b[43mswmr\u001b[49m\u001b[43m=\u001b[49m\u001b[43mswmr\u001b[49m\u001b[43m)\u001b[49m\n\u001b[32m    566\u001b[39m \u001b[38;5;28;01mif\u001b[39;00m \u001b[38;5;28misinstance\u001b[39m(libver, \u001b[38;5;28mtuple\u001b[39m):\n\u001b[32m    567\u001b[39m     \u001b[38;5;28mself\u001b[39m._libver = libver\n",
      "\u001b[36mFile \u001b[39m\u001b[32mc:\\Users\\T\\Desktop\\Al_Project\\Traffic-Sign-Detection-Using-CNN\\venv\\Lib\\site-packages\\h5py\\_hl\\files.py:244\u001b[39m, in \u001b[36mmake_fid\u001b[39m\u001b[34m(name, mode, userblock_size, fapl, fcpl, swmr)\u001b[39m\n\u001b[32m    242\u001b[39m     fid = h5f.create(name, h5f.ACC_EXCL, fapl=fapl, fcpl=fcpl)\n\u001b[32m    243\u001b[39m \u001b[38;5;28;01melif\u001b[39;00m mode == \u001b[33m'\u001b[39m\u001b[33mw\u001b[39m\u001b[33m'\u001b[39m:\n\u001b[32m--> \u001b[39m\u001b[32m244\u001b[39m     fid = \u001b[43mh5f\u001b[49m\u001b[43m.\u001b[49m\u001b[43mcreate\u001b[49m\u001b[43m(\u001b[49m\u001b[43mname\u001b[49m\u001b[43m,\u001b[49m\u001b[43m \u001b[49m\u001b[43mh5f\u001b[49m\u001b[43m.\u001b[49m\u001b[43mACC_TRUNC\u001b[49m\u001b[43m,\u001b[49m\u001b[43m \u001b[49m\u001b[43mfapl\u001b[49m\u001b[43m=\u001b[49m\u001b[43mfapl\u001b[49m\u001b[43m,\u001b[49m\u001b[43m \u001b[49m\u001b[43mfcpl\u001b[49m\u001b[43m=\u001b[49m\u001b[43mfcpl\u001b[49m\u001b[43m)\u001b[49m\n\u001b[32m    245\u001b[39m \u001b[38;5;28;01melif\u001b[39;00m mode == \u001b[33m'\u001b[39m\u001b[33ma\u001b[39m\u001b[33m'\u001b[39m:\n\u001b[32m    246\u001b[39m     \u001b[38;5;66;03m# Open in append mode (read/write).\u001b[39;00m\n\u001b[32m    247\u001b[39m     \u001b[38;5;66;03m# If that fails, create a new file only if it won't clobber an\u001b[39;00m\n\u001b[32m    248\u001b[39m     \u001b[38;5;66;03m# existing one (ACC_EXCL)\u001b[39;00m\n\u001b[32m    249\u001b[39m     \u001b[38;5;28;01mtry\u001b[39;00m:\n",
      "\u001b[36mFile \u001b[39m\u001b[32mh5py\\\\_objects.pyx:54\u001b[39m, in \u001b[36mh5py._objects.with_phil.wrapper\u001b[39m\u001b[34m()\u001b[39m\n",
      "\u001b[36mFile \u001b[39m\u001b[32mh5py\\\\_objects.pyx:55\u001b[39m, in \u001b[36mh5py._objects.with_phil.wrapper\u001b[39m\u001b[34m()\u001b[39m\n",
      "\u001b[36mFile \u001b[39m\u001b[32mh5py\\\\h5f.pyx:122\u001b[39m, in \u001b[36mh5py.h5f.create\u001b[39m\u001b[34m()\u001b[39m\n",
      "\u001b[31mOSError\u001b[39m: [Errno 0] Unable to synchronously create file (unable to lock file, errno = 0, error message = 'No error', Win32 GetLastError() = 33)"
     ]
    }
   ],
   "source": [
    "import numpy as np\n",
    "import matplotlib.pyplot as plt\n",
    "import seaborn as sns\n",
    "\n",
    "from tensorflow.keras.models import Sequential\n",
    "from tensorflow.keras.layers import Conv2D, MaxPool2D, Dropout, BatchNormalization, GlobalAveragePooling2D, Dense\n",
    "from tensorflow.keras.preprocessing.image import ImageDataGenerator\n",
    "from tensorflow.keras.callbacks import EarlyStopping, ReduceLROnPlateau, ModelCheckpoint\n",
    "from tensorflow.keras.optimizers import Adam\n",
    "import tensorflow.keras.backend as K\n",
    "from sklearn.metrics import confusion_matrix, classification_report\n",
    "\n",
    "# ===================== Cấu hình dữ liệu ===================== #\n",
    "image_size = (30, 30)\n",
    "batch_size = 32\n",
    "num_classes = 58\n",
    "\n",
    "train_dir = 'dataset2/train'\n",
    "val_dir = 'dataset2/val'\n",
    "test_dir = 'dataset2/test'\n",
    "\n",
    "# ===================== Tạo ImageDataGenerator ===================== #\n",
    "train_datagen = ImageDataGenerator(\n",
    "    rescale=1./255,\n",
    "    rotation_range=15,\n",
    "    zoom_range=0.1,\n",
    "    width_shift_range=0.1,\n",
    "    height_shift_range=0.1,\n",
    "    shear_range=0.1,\n",
    "    horizontal_flip=False,\n",
    "    fill_mode='nearest'\n",
    ")\n",
    "\n",
    "val_test_datagen = ImageDataGenerator(rescale=1./255)\n",
    "\n",
    "train_generator = train_datagen.flow_from_directory(\n",
    "    train_dir,\n",
    "    target_size=image_size,\n",
    "    batch_size=batch_size,\n",
    "    class_mode='categorical',\n",
    "    shuffle=True  # Nên bật shuffle cho train\n",
    ")\n",
    "\n",
    "val_generator = val_test_datagen.flow_from_directory(\n",
    "    val_dir,\n",
    "    target_size=image_size,\n",
    "    batch_size=batch_size,\n",
    "    class_mode='categorical',\n",
    "    shuffle=False  # Tắt shuffle cho validation để có thể so sánh chính xác\n",
    ")\n",
    "\n",
    "test_generator = val_test_datagen.flow_from_directory(\n",
    "    test_dir,\n",
    "    target_size=image_size,\n",
    "    batch_size=batch_size,\n",
    "    class_mode='categorical',\n",
    "    shuffle=False  # Rất quan trọng giữ đúng thứ tự nhãn\n",
    ")\n",
    "\n",
    "# ===================== Định nghĩa custom metric RMSE =====================\n",
    "def rmse(y_true, y_pred):\n",
    "    return K.sqrt(K.mean(K.square(y_pred - y_true)))\n",
    "\n",
    "# ===================== Xây dựng model =====================\n",
    "model = Sequential([\n",
    "    Conv2D(64, (3, 3), padding='same', activation='relu', input_shape=(image_size[0], image_size[1], 3)),\n",
    "    BatchNormalization(),\n",
    "    Dropout(0.1),\n",
    "\n",
    "    Conv2D(64, (3, 3), padding='same', activation='relu'),\n",
    "    BatchNormalization(),\n",
    "    MaxPool2D((2, 2)),\n",
    "    Dropout(0.25),\n",
    "\n",
    "    Conv2D(128, (3, 3), padding='same', activation='relu'),\n",
    "    BatchNormalization(),\n",
    "    Dropout(0.1),\n",
    "\n",
    "    Conv2D(128, (3, 3), padding='same', activation='relu'),\n",
    "    BatchNormalization(),\n",
    "    MaxPool2D((2, 2)),\n",
    "    Dropout(0.25),\n",
    "\n",
    "    GlobalAveragePooling2D(),\n",
    "\n",
    "    Dense(256, activation='relu'),\n",
    "    BatchNormalization(),\n",
    "    Dropout(0.5),\n",
    "\n",
    "    Dense(num_classes, activation='softmax')\n",
    "])\n",
    "\n",
    "model.summary()\n",
    "\n",
    "# ===================== Compile model =====================\n",
    "model.compile(\n",
    "    optimizer=Adam(),  # Dùng Adam mặc định\n",
    "    loss='categorical_crossentropy',\n",
    "    metrics=['accuracy', 'mae', 'mse', 'mape', rmse]\n",
    ")\n",
    "\n",
    "# ===================== Callbacks =====================\n",
    "early_stopping = EarlyStopping(monitor='val_loss', patience=7, restore_best_weights=True)\n",
    "reduce_lr = ReduceLROnPlateau(monitor='val_loss', factor=0.5, patience=3, verbose=1)\n",
    "model_checkpoint = ModelCheckpoint('best_model2.h5', monitor='val_loss', save_best_only=True, verbose=1)\n",
    "\n",
    "# ===================== Train model =====================\n",
    "epochs = 100\n",
    "\n",
    "history = model.fit(\n",
    "    train_generator,\n",
    "    steps_per_epoch=train_generator.samples // batch_size,\n",
    "    validation_data=val_generator,\n",
    "    validation_steps=val_generator.samples // batch_size,\n",
    "    epochs=epochs,\n",
    "    callbacks=[early_stopping, reduce_lr, model_checkpoint]\n",
    ")\n",
    "\n",
    "# ===================== Đánh giá model và tạo ma trận nhầm lẫn =====================\n",
    "\n",
    "# Lưu mô hình cuối cùng\n",
    "model.save('model2.h5')\n",
    "\n",
    "# Dự đoán trên tập test\n",
    "test_steps = (test_generator.samples + batch_size - 1) // batch_size  # làm tròn lên\n",
    "y_pred_prob = model.predict(test_generator, steps=test_steps)\n",
    "y_pred = np.argmax(y_pred_prob, axis=1)\n",
    "\n",
    "# Lấy nhãn thật\n",
    "y_true = test_generator.classes\n",
    "\n",
    "# Tính ma trận nhầm lẫn\n",
    "cm = confusion_matrix(y_true, y_pred)\n",
    "\n",
    "# Vẽ ma trận nhầm lẫn\n",
    "plt.figure(figsize=(15, 15))\n",
    "sns.heatmap(cm, annot=True, fmt='d', cmap='Blues')\n",
    "plt.xlabel('Dự đoán')\n",
    "plt.ylabel('Thực tế')\n",
    "plt.title('Ma trận nhầm lẫn trên tập test')\n",
    "plt.show()\n",
    "\n",
    "# In báo cáo phân loại\n",
    "target_names = list(test_generator.class_indices.keys())\n",
    "print(classification_report(y_true, y_pred, target_names=target_names))\n"
   ]
  }
 ],
 "metadata": {
  "kernelspec": {
   "display_name": "venv",
   "language": "python",
   "name": "python3"
  },
  "language_info": {
   "codemirror_mode": {
    "name": "ipython",
    "version": 3
   },
   "file_extension": ".py",
   "mimetype": "text/x-python",
   "name": "python",
   "nbconvert_exporter": "python",
   "pygments_lexer": "ipython3",
   "version": "3.12.9"
  }
 },
 "nbformat": 4,
 "nbformat_minor": 5
}
